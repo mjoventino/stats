{
 "cells": [
  {
   "cell_type": "markdown",
   "metadata": {},
   "source": [
    "## Propriedades de um experimento de Poisson\n",
    "(modelo de chegadas aleatórias em situações que ocorrem filas de espera)\n",
    "- Prob. de uma ocorrência é a mesma para quaisquer dos intervalos de igual comprimento\n",
    "- Ocorrência ou não em qualquer intervalo é independente da ocorrência ou não em qualquer outro intevalo\n",
    "## X ~ Po(m)\n",
    "### E(X) = Var(X)"
   ]
  },
  {
   "cell_type": "code",
   "execution_count": 30,
   "metadata": {},
   "outputs": [],
   "source": [
    "from scipy.stats import poisson\n",
    "import matplotlib.pyplot as plt\n",
    "import seaborn as sb\n",
    "import pandas as pd"
   ]
  },
  {
   "cell_type": "code",
   "execution_count": 26,
   "metadata": {},
   "outputs": [
    {
     "data": {
      "text/html": [
       "<div>\n",
       "<style scoped>\n",
       "    .dataframe tbody tr th:only-of-type {\n",
       "        vertical-align: middle;\n",
       "    }\n",
       "\n",
       "    .dataframe tbody tr th {\n",
       "        vertical-align: top;\n",
       "    }\n",
       "\n",
       "    .dataframe thead th {\n",
       "        text-align: right;\n",
       "    }\n",
       "</style>\n",
       "<table border=\"1\" class=\"dataframe\">\n",
       "  <thead>\n",
       "    <tr style=\"text-align: right;\">\n",
       "      <th></th>\n",
       "      <th>p</th>\n",
       "      <th>1-p</th>\n",
       "    </tr>\n",
       "  </thead>\n",
       "  <tbody>\n",
       "    <tr>\n",
       "      <th>0</th>\n",
       "      <td>0.367879</td>\n",
       "      <td>0.632121</td>\n",
       "    </tr>\n",
       "  </tbody>\n",
       "</table>\n",
       "</div>"
      ],
      "text/plain": [
       "          p       1-p\n",
       "0  0.367879  0.632121"
      ]
     },
     "execution_count": 26,
     "metadata": {},
     "output_type": "execute_result"
    }
   ],
   "source": [
    "# probabilidade de x ocorrências em um intervalo, com valor_esperado= m  (mean ou média de chegadas em um intervalo)\n",
    "x= 0             # nr exato de ocorrências no intervalo\n",
    "m= 6             # média no intervalo = taxa de ocorrência\n",
    "p= poisson.pmf(x,m)\n",
    "d= {'p':[p], '1-p':[(1-p)]}\n",
    "pd.DataFrame(data=d)"
   ]
  },
  {
   "cell_type": "code",
   "execution_count": 29,
   "metadata": {},
   "outputs": [
    {
     "data": {
      "text/html": [
       "<div>\n",
       "<style scoped>\n",
       "    .dataframe tbody tr th:only-of-type {\n",
       "        vertical-align: middle;\n",
       "    }\n",
       "\n",
       "    .dataframe tbody tr th {\n",
       "        vertical-align: top;\n",
       "    }\n",
       "\n",
       "    .dataframe thead th {\n",
       "        text-align: right;\n",
       "    }\n",
       "</style>\n",
       "<table border=\"1\" class=\"dataframe\">\n",
       "  <thead>\n",
       "    <tr style=\"text-align: right;\">\n",
       "      <th>x</th>\n",
       "      <th>0</th>\n",
       "      <th>1</th>\n",
       "      <th>2</th>\n",
       "      <th>soma</th>\n",
       "      <th>1-p</th>\n",
       "    </tr>\n",
       "  </thead>\n",
       "  <tbody>\n",
       "    <tr>\n",
       "      <th>P(x)</th>\n",
       "      <td>0.049787</td>\n",
       "      <td>0.149361</td>\n",
       "      <td>0.224042</td>\n",
       "      <td>0.42319</td>\n",
       "      <td>0.57681</td>\n",
       "    </tr>\n",
       "  </tbody>\n",
       "</table>\n",
       "</div>"
      ],
      "text/plain": [
       "x            0         1         2     soma      1-p\n",
       "P(x)  0.049787  0.149361  0.224042  0.42319  0.57681"
      ]
     },
     "execution_count": 29,
     "metadata": {},
     "output_type": "execute_result"
    }
   ],
   "source": [
    "# probabilidade de um conjunto de x ocorrências em um intervalo, \n",
    "#                      com valor_esperado= m  (mean ou média de chegadas em um intervalo)\n",
    "l_x= list(range(0,2+1))    # (t,z+1) > de t a z ocorrências\n",
    "#m= 3    # outra media\n",
    "# rodar a célula\n",
    "p_x= [poisson.pmf(x,m) for x in l_x]\n",
    "d = {'x':l_x,    \n",
    "    'P(x)':p_x}\n",
    "dfp = pd.DataFrame(data=d)\n",
    "dfp.set_index('x', inplace=True)\n",
    "df= dfp.transpose()\n",
    "df['soma']= dfp.sum()\n",
    "df[('1-p')]= 1-dfp.sum()\n",
    "df"
   ]
  },
  {
   "cell_type": "code",
   "execution_count": 31,
   "metadata": {},
   "outputs": [
    {
     "data": {
      "text/html": [
       "<div>\n",
       "<style scoped>\n",
       "    .dataframe tbody tr th:only-of-type {\n",
       "        vertical-align: middle;\n",
       "    }\n",
       "\n",
       "    .dataframe tbody tr th {\n",
       "        vertical-align: top;\n",
       "    }\n",
       "\n",
       "    .dataframe thead th {\n",
       "        text-align: right;\n",
       "    }\n",
       "</style>\n",
       "<table border=\"1\" class=\"dataframe\">\n",
       "  <thead>\n",
       "    <tr style=\"text-align: right;\">\n",
       "      <th></th>\n",
       "      <th>Novo intervalo</th>\n",
       "      <th>Nova média</th>\n",
       "      <th>p</th>\n",
       "      <th>1-p</th>\n",
       "    </tr>\n",
       "  </thead>\n",
       "  <tbody>\n",
       "    <tr>\n",
       "      <th>0</th>\n",
       "      <td>8</td>\n",
       "      <td>40.0</td>\n",
       "      <td>0.017707</td>\n",
       "      <td>0.982293</td>\n",
       "    </tr>\n",
       "  </tbody>\n",
       "</table>\n",
       "</div>"
      ],
      "text/plain": [
       "   Novo intervalo  Nova média         p       1-p\n",
       "0               8        40.0  0.017707  0.982293"
      ]
     },
     "execution_count": 31,
     "metadata": {},
     "output_type": "execute_result"
    }
   ],
   "source": [
    "# ajuste da médias para intervalo de comprimento proporcional\n",
    "m1= 5   # média inicial\n",
    "t1= 1   # intervalo inicial\n",
    "t= 8    # novo intervalo\n",
    "m= t * m1/t1\n",
    "x= 50   # nr de sucessos\n",
    "p= poisson.pmf(x,m)\n",
    "d= {'Novo intervalo':[t],'Nova média':[m],'p':[p], '1-p':[(1-p)]}\n",
    "pd.DataFrame(data=d)"
   ]
  },
  {
   "cell_type": "code",
   "execution_count": 16,
   "metadata": {},
   "outputs": [
    {
     "data": {
      "image/png": "[encoded data removed]",
      "text/plain": [
       "<Figure size 432x288 with 1 Axes>"
      ]
     },
     "metadata": {
      "needs_background": "light"
     },
     "output_type": "display_data"
    }
   ],
   "source": [
    "x99=poisson.interval(0.99,m)   # intervalo com 99% da distribuição\n",
    "l_x= list(range(int(x99[0]),int(x99[1])+1))\n",
    "p_x= [poisson.pmf(x,m) for x in l_x]\n",
    "plt.xlabel('Ocorrências')\n",
    "plt.ylabel('Probabilidade')\n",
    "plt.title('Distribuição de Poisson para 99% das ocorrências')\n",
    "plt.bar(l_x,p_x, width=0.4)\n",
    "plt.show()"
   ]
  },
  {
   "cell_type": "code",
   "execution_count": null,
   "metadata": {},
   "outputs": [],
   "source": []
  }
 ],
 "metadata": {
  "kernelspec": {
   "display_name": "Python 3",
   "language": "python",
   "name": "python3"
  },
  "language_info": {
   "codemirror_mode": {
    "name": "ipython",
    "version": 3
   },
   "file_extension": ".py",
   "mimetype": "text/x-python",
   "name": "python",
   "nbconvert_exporter": "python",
   "pygments_lexer": "ipython3",
   "version": "3.7.4"
  }
 },
 "nbformat": 4,
 "nbformat_minor": 2
}
