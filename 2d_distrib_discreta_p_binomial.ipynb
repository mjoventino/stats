{
 "cells": [
  {
   "cell_type": "markdown",
   "metadata": {},
   "source": [
    "## Distribuição Discreta de Probabilidade Binomial\n",
    "### Propriedades de um experimento binomial:\n",
    "1. sequencia de n ensaios idênticos\n",
    "2. resultados possíveis: sucesso ou fracasso\n",
    "3. p = probabilidade de sucesso igual para todos os ensaios.  (1-p)= prob. fracasso\n",
    "4. ensaios independentes\n",
    "## X ~ B(n;p)\n",
    "#### E(X)= np\n",
    "#### Var= np(1-p)"
   ]
  },
  {
   "cell_type": "code",
   "execution_count": 1,
   "metadata": {},
   "outputs": [],
   "source": [
    "import pandas as pd\n",
    "from scipy.stats import binom\n",
    "import matplotlib.pyplot as plt"
   ]
  },
  {
   "cell_type": "code",
   "execution_count": 27,
   "metadata": {},
   "outputs": [],
   "source": [
    "# Probabilidade\n",
    "x= 12    # nr sucessos\n",
    "n= 14    # nr de ensaios\n",
    "p= 0.6  # probabilidade de sucesso"
   ]
  },
  {
   "cell_type": "code",
   "execution_count": 28,
   "metadata": {},
   "outputs": [
    {
     "data": {
      "text/html": [
       "<div>\n",
       "<style scoped>\n",
       "    .dataframe tbody tr th:only-of-type {\n",
       "        vertical-align: middle;\n",
       "    }\n",
       "\n",
       "    .dataframe tbody tr th {\n",
       "        vertical-align: top;\n",
       "    }\n",
       "\n",
       "    .dataframe thead th {\n",
       "        text-align: right;\n",
       "    }\n",
       "</style>\n",
       "<table border=\"1\" class=\"dataframe\">\n",
       "  <thead>\n",
       "    <tr style=\"text-align: right;\">\n",
       "      <th></th>\n",
       "      <th>n</th>\n",
       "      <th>p</th>\n",
       "      <th>E(x)</th>\n",
       "      <th>Var(x)</th>\n",
       "      <th>std</th>\n",
       "      <th>x</th>\n",
       "      <th>P(x)</th>\n",
       "      <th>1-P(x)</th>\n",
       "    </tr>\n",
       "  </thead>\n",
       "  <tbody>\n",
       "    <tr>\n",
       "      <th>0</th>\n",
       "      <td>14</td>\n",
       "      <td>0.6</td>\n",
       "      <td>8.4</td>\n",
       "      <td>3.36</td>\n",
       "      <td>1.83303</td>\n",
       "      <td>12</td>\n",
       "      <td>0.031694</td>\n",
       "      <td>0.968306</td>\n",
       "    </tr>\n",
       "  </tbody>\n",
       "</table>\n",
       "</div>"
      ],
      "text/plain": [
       "    n    p  E(x)  Var(x)      std   x      P(x)    1-P(x)\n",
       "0  14  0.6   8.4    3.36  1.83303  12  0.031694  0.968306"
      ]
     },
     "execution_count": 28,
     "metadata": {},
     "output_type": "execute_result"
    }
   ],
   "source": [
    "P= binom.pmf(x,n,p)\n",
    "Ex= binom.expect(args=(n,p))  # valor esperado\n",
    "Var_x = binom.var(n,p)        # Variância\n",
    "std_x = binom.std(n,p)        # Desvio Padrão\n",
    "d= {'n':[n], 'p':[p], 'E(x)':[Ex], 'Var(x)':[Var_x], 'std':[std_x],'x':[x],'P(x)':[P], '1-P(x)':[(1-P)]}\n",
    "pd.DataFrame(data=d)"
   ]
  },
  {
   "cell_type": "code",
   "execution_count": 29,
   "metadata": {},
   "outputs": [
    {
     "data": {
      "text/html": [
       "<div>\n",
       "<style scoped>\n",
       "    .dataframe tbody tr th:only-of-type {\n",
       "        vertical-align: middle;\n",
       "    }\n",
       "\n",
       "    .dataframe tbody tr th {\n",
       "        vertical-align: top;\n",
       "    }\n",
       "\n",
       "    .dataframe thead th {\n",
       "        text-align: right;\n",
       "    }\n",
       "</style>\n",
       "<table border=\"1\" class=\"dataframe\">\n",
       "  <thead>\n",
       "    <tr style=\"text-align: right;\">\n",
       "      <th>x</th>\n",
       "      <th>13</th>\n",
       "      <th>14</th>\n",
       "      <th>soma</th>\n",
       "      <th>1-soma</th>\n",
       "    </tr>\n",
       "  </thead>\n",
       "  <tbody>\n",
       "    <tr>\n",
       "      <th>P(x)</th>\n",
       "      <td>0.007314</td>\n",
       "      <td>0.000784</td>\n",
       "      <td>0.008098</td>\n",
       "      <td>0.991902</td>\n",
       "    </tr>\n",
       "  </tbody>\n",
       "</table>\n",
       "</div>"
      ],
      "text/plain": [
       "x           13        14      soma    1-soma\n",
       "P(x)  0.007314  0.000784  0.008098  0.991902"
      ]
     },
     "execution_count": 29,
     "metadata": {},
     "output_type": "execute_result"
    }
   ],
   "source": [
    "# Probabilidade\n",
    "x= range(13,14+1)    # (t,z) > de t a (z+1) sucessos\n",
    "#n= 20    # nr de ensaios\n",
    "#p= 0.53  # probabilidade de sucesso\n",
    "# rodar a célula\n",
    "p_x = binom.pmf(x,n,p)\n",
    "p_s= sum(list(binom.pmf(x,n,p)))\n",
    "d = {'x':list(x),    \n",
    "    'P(x)':p_x}\n",
    "dfp = pd.DataFrame(data=d)\n",
    "dfp.set_index('x', inplace=True)\n",
    "df= dfp.transpose()\n",
    "df['soma']= p_s\n",
    "df[('1-soma')]= 1-p_s\n",
    "df"
   ]
  },
  {
   "cell_type": "code",
   "execution_count": 18,
   "metadata": {},
   "outputs": [
    {
     "data": {
      "text/plain": [
       "<BarContainer object of 3 artists>"
      ]
     },
     "execution_count": 18,
     "metadata": {},
     "output_type": "execute_result"
    },
    {
     "data": {
      "image/png": "[encoded data removed]",
      "text/plain": [
       "<Figure size 432x288 with 1 Axes>"
      ]
     },
     "metadata": {
      "needs_background": "light"
     },
     "output_type": "display_data"
    }
   ],
   "source": [
    "x99= binom.interval(0.99,n,p)\n",
    "x= range(int(x99[0]),int(x99[1]))\n",
    "p_x = binom.pmf(x,n,p)\n",
    "plt.xlabel('x')\n",
    "plt.ylabel('p')\n",
    "for (a,b) in zip(x, p_x):\n",
    "    plt.text(a-0.17, b-0.02, str(round(b,2)),color='white')\n",
    "plt.title('Distribuição Binomial Discreta')\n",
    "plt.bar(x,p_x,width=0.4)#, color=(0.3,0.1,0.4,0.6))"
   ]
  },
  {
   "cell_type": "code",
   "execution_count": null,
   "metadata": {},
   "outputs": [],
   "source": []
  }
 ],
 "metadata": {
  "kernelspec": {
   "display_name": "Python 3",
   "language": "python",
   "name": "python3"
  },
  "language_info": {
   "codemirror_mode": {
    "name": "ipython",
    "version": 3
   },
   "file_extension": ".py",
   "mimetype": "text/x-python",
   "name": "python",
   "nbconvert_exporter": "python",
   "pygments_lexer": "ipython3",
   "version": "3.7.4"
  }
 },
 "nbformat": 4,
 "nbformat_minor": 2
}
