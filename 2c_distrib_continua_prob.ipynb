{
 "cells": [
  {
   "cell_type": "markdown",
   "metadata": {},
   "source": [
    "## Distribuição Contínua de Probabilidade\n",
    "- f(x) >= 0   para todo x\n",
    "- área de probabilidade = 1\n",
    "- intevalo (a,b):  P(a < x < b) = area abaixo da função\n",
    "- f(x) = (x - L) / S"
   ]
  },
  {
   "cell_type": "code",
   "execution_count": 1,
   "metadata": {},
   "outputs": [],
   "source": [
    "import pandas as pd\n",
    "%matplotlib inline\n",
    "from sympy import *\n",
    "init_printing()"
   ]
  },
  {
   "cell_type": "code",
   "execution_count": 2,
   "metadata": {},
   "outputs": [
    {
     "data": {
      "image/png": "[encoded data removed]",
      "text/latex": [
       "$\\displaystyle x$"
      ],
      "text/plain": [
       "x"
      ]
     },
     "execution_count": 2,
     "metadata": {},
     "output_type": "execute_result"
    }
   ],
   "source": [
    "var('x')"
   ]
  },
  {
   "cell_type": "code",
   "execution_count": 34,
   "metadata": {},
   "outputs": [
    {
     "data": {
      "image/png": "[encoded data removed]",
      "text/latex": [
       "$\\displaystyle \\left( x \\mapsto \\frac{3}{20} \\right)$"
      ],
      "text/plain": [
       "x ↦ 3/20"
      ]
     },
     "execution_count": 34,
     "metadata": {},
     "output_type": "execute_result"
    }
   ],
   "source": [
    "# definindo a função de densidade de probabilidade\n",
    "loc1= 10           # dominio:    loc1 < x < loc2\n",
    "loc2= 15\n",
    "f= Lambda(x, (0*x+3)/20)\n",
    "#f= Lambda(x, 3/20)\n",
    "f"
   ]
  },
  {
   "cell_type": "code",
   "execution_count": 35,
   "metadata": {},
   "outputs": [
    {
     "data": {
      "image/png": "[encoded data removed]",
      "text/plain": [
       "<Figure size 432x288 with 1 Axes>"
      ]
     },
     "metadata": {
      "needs_background": "light"
     },
     "output_type": "display_data"
    },
    {
     "data": {
      "text/plain": [
       "<sympy.plotting.plot.Plot at 0x15a63a4a048>"
      ]
     },
     "execution_count": 35,
     "metadata": {},
     "output_type": "execute_result"
    }
   ],
   "source": [
    "# Verificar se f(x)> 0  no dominio\n",
    "#%matplotlib inline\n",
    "plot(f(x), (x,loc1,loc2))"
   ]
  },
  {
   "cell_type": "code",
   "execution_count": 36,
   "metadata": {},
   "outputs": [
    {
     "data": {
      "text/html": [
       "<div>\n",
       "<style scoped>\n",
       "    .dataframe tbody tr th:only-of-type {\n",
       "        vertical-align: middle;\n",
       "    }\n",
       "\n",
       "    .dataframe tbody tr th {\n",
       "        vertical-align: top;\n",
       "    }\n",
       "\n",
       "    .dataframe thead th {\n",
       "        text-align: right;\n",
       "    }\n",
       "</style>\n",
       "<table border=\"1\" class=\"dataframe\">\n",
       "  <thead>\n",
       "    <tr style=\"text-align: right;\">\n",
       "      <th></th>\n",
       "      <th>Domínio</th>\n",
       "      <th>área no domínio</th>\n",
       "      <th>Media</th>\n",
       "      <th>Variância</th>\n",
       "      <th>Std</th>\n",
       "    </tr>\n",
       "  </thead>\n",
       "  <tbody>\n",
       "    <tr>\n",
       "      <th>Função em estudo</th>\n",
       "      <td>10 a 15</td>\n",
       "      <td>0.75</td>\n",
       "      <td>9.375</td>\n",
       "      <td>30.859375</td>\n",
       "      <td>5.555122</td>\n",
       "    </tr>\n",
       "  </tbody>\n",
       "</table>\n",
       "</div>"
      ],
      "text/plain": [
       "                  Domínio  área no domínio  Media  Variância       Std\n",
       "Função em estudo  10 a 15             0.75  9.375  30.859375  5.555122"
      ]
     },
     "execution_count": 36,
     "metadata": {},
     "output_type": "execute_result"
    }
   ],
   "source": [
    "area_d= float( integrate(f(x), (x,loc1,loc2)) )  # área no domínio = integral f(x)dx\n",
    "E= float( integrate(x*f(x), (x,loc1,loc2) ) )    # média= E(X) = integral x f(x)\n",
    "v2= float( integrate(x**2 * f(x), (x,loc1,loc2) ) )   # variância ao quadrado\n",
    "Var= v2 - (E**2)                                      # variância= Var(x)= E(x**2) - E(x)**2 \n",
    "std= Var ** 0.5\n",
    "d= {'Domínio':[str(loc1)+' a '+str(loc2)],'área no domínio':[area_d], 'Media':[E], 'Variância':[Var], 'Std':[std]}\n",
    "pd.DataFrame(d, index=['Função em estudo'])"
   ]
  },
  {
   "cell_type": "code",
   "execution_count": 37,
   "metadata": {},
   "outputs": [
    {
     "name": "stdout",
     "output_type": "stream",
     "text": [
      "P(a < x < b)= 0.3\n"
     ]
    }
   ],
   "source": [
    "# Calculo P(a < x < b)\n",
    "a= 10\n",
    "b= 12\n",
    "# rodar a célula\n",
    "area= integrate(f(x), (x,a,b))\n",
    "a= float(area)\n",
    "print(f'P(a < x < b)= {a}')"
   ]
  },
  {
   "cell_type": "code",
   "execution_count": 23,
   "metadata": {},
   "outputs": [],
   "source": [
    "# rodar só para a Função 1 \n",
    "E1= E\n",
    "v2_f1= v2\n",
    "var1= Var\n",
    "area_d1= area_d\n",
    "a1= a"
   ]
  },
  {
   "cell_type": "code",
   "execution_count": 38,
   "metadata": {},
   "outputs": [],
   "source": [
    "# rodar só para Função 2\n",
    "E2= E\n",
    "v2_f2= v2\n",
    "var2= Var\n",
    "area_d2= area_d\n",
    "a2= a"
   ]
  },
  {
   "cell_type": "code",
   "execution_count": 41,
   "metadata": {},
   "outputs": [
    {
     "data": {
      "text/html": [
       "<div>\n",
       "<style scoped>\n",
       "    .dataframe tbody tr th:only-of-type {\n",
       "        vertical-align: middle;\n",
       "    }\n",
       "\n",
       "    .dataframe tbody tr th {\n",
       "        vertical-align: top;\n",
       "    }\n",
       "\n",
       "    .dataframe thead th {\n",
       "        text-align: right;\n",
       "    }\n",
       "</style>\n",
       "<table border=\"1\" class=\"dataframe\">\n",
       "  <thead>\n",
       "    <tr style=\"text-align: right;\">\n",
       "      <th></th>\n",
       "      <th>E(X)**2</th>\n",
       "      <th>E_1e2</th>\n",
       "      <th>Var_1e2</th>\n",
       "      <th>std_1e2</th>\n",
       "      <th>P(a &lt; x &lt; b)</th>\n",
       "    </tr>\n",
       "  </thead>\n",
       "  <tbody>\n",
       "    <tr>\n",
       "      <th>0</th>\n",
       "      <td>139.383333</td>\n",
       "      <td>11.641667</td>\n",
       "      <td>3.854931</td>\n",
       "      <td>1.963398</td>\n",
       "      <td>0.4375</td>\n",
       "    </tr>\n",
       "  </tbody>\n",
       "</table>\n",
       "</div>"
      ],
      "text/plain": [
       "      E(X)**2      E_1e2   Var_1e2   std_1e2  P(a < x < b)\n",
       "0  139.383333  11.641667  3.854931  1.963398        0.4375"
      ]
     },
     "execution_count": 41,
     "metadata": {},
     "output_type": "execute_result"
    }
   ],
   "source": [
    "# função1 + função2\n",
    "E= E1+E2\n",
    "Var_1e2= (v2_f1 + v2_f2) - E**2\n",
    "std_1e2 = Var_1e2 ** 0.5\n",
    "P= round(a1 + a2,4)\n",
    "d= {'E(X)**2':[v2_f1 + v2_f2],'E_1e2':[E], 'Var_1e2':[Var_1e2], 'std_1e2':[std_1e2],'P(a < x < b)':[P]}\n",
    "pd.DataFrame(data=d)"
   ]
  },
  {
   "cell_type": "code",
   "execution_count": null,
   "metadata": {},
   "outputs": [],
   "source": []
  }
 ],
 "metadata": {
  "kernelspec": {
   "display_name": "Python 3",
   "language": "python",
   "name": "python3"
  },
  "language_info": {
   "codemirror_mode": {
    "name": "ipython",
    "version": 3
   },
   "file_extension": ".py",
   "mimetype": "text/x-python",
   "name": "python",
   "nbconvert_exporter": "python",
   "pygments_lexer": "ipython3",
   "version": "3.7.4"
  }
 },
 "nbformat": 4,
 "nbformat_minor": 2
}
