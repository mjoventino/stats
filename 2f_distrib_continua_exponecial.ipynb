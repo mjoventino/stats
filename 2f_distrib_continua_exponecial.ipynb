{
 "cells": [
  {
   "cell_type": "markdown",
   "metadata": {},
   "source": [
    "## Distribuição Contínua Exponencial de Probabilidade: descrição da extensão do intervalo entre ocorrências\n",
    "### X ~ E(X)           \n",
    "- E(X) = valor esperado ou média entre ocorrências\n",
    "- intervalos de tempo para atendimentos\n",
    "- tempo para carregar veículo\n",
    "- distância entre defeitos na rodovia\n",
    "### P(X > a |  X > b) =  P(X >  a-b )\n",
    "### relacionada à distribuição discreta de Poisson: ocorrências por intervalo\n",
    "### Parâmetro = 1 / média"
   ]
  },
  {
   "cell_type": "code",
   "execution_count": 1,
   "metadata": {},
   "outputs": [],
   "source": [
    "from scipy.stats import expon\n",
    "import numpy as np\n",
    "import matplotlib.pyplot as plt"
   ]
  },
  {
   "cell_type": "code",
   "execution_count": 30,
   "metadata": {},
   "outputs": [],
   "source": [
    "# Defina a média ou valor esperado\n",
    "m= 1/3"
   ]
  },
  {
   "cell_type": "code",
   "execution_count": 31,
   "metadata": {},
   "outputs": [
    {
     "data": {
      "text/plain": [
       "0.950212931632136"
      ]
     },
     "execution_count": 31,
     "metadata": {},
     "output_type": "execute_result"
    }
   ],
   "source": [
    "# P(x < x1)   -  Probabilidade Cumulativa até x1   em uma dist contínua exponencial de média m     (cdf: cumulative dist func)\n",
    "x1= 1\n",
    "P_x1= expon.cdf(x1, scale=m)\n",
    "P_x1"
   ]
  },
  {
   "cell_type": "code",
   "execution_count": 11,
   "metadata": {},
   "outputs": [
    {
     "data": {
      "text/plain": [
       "3999.08546982125"
      ]
     },
     "execution_count": 11,
     "metadata": {},
     "output_type": "execute_result"
    }
   ],
   "source": [
    "# x1 para P(x < x1)  -  ppf (percent point function) inverse od cdf     -   calcula x1 dado p  onde  p = P(x1 < x)\n",
    "p= 0.3934  #    P(x < x1)\n",
    "expon.ppf(p,scale=m)"
   ]
  },
  {
   "cell_type": "code",
   "execution_count": 21,
   "metadata": {},
   "outputs": [
    {
     "data": {
      "text/plain": [
       "0.36787944117144233"
      ]
     },
     "execution_count": 21,
     "metadata": {},
     "output_type": "execute_result"
    }
   ],
   "source": [
    "# P(x > x1)  -  Survival Func \n",
    "x1= 100\n",
    "expon.sf(x1, scale=m)"
   ]
  },
  {
   "cell_type": "code",
   "execution_count": 14,
   "metadata": {},
   "outputs": [
    {
     "data": {
      "text/plain": [
       "4000.404404784257"
      ]
     },
     "execution_count": 14,
     "metadata": {},
     "output_type": "execute_result"
    }
   ],
   "source": [
    "# x1 para P(x > x1)  - isf:  inverse survival function     calcula x1  dado p    onde     p = P(x1 > x)\n",
    "p= 0.6065    #  P(x > x1)\n",
    "expon.isf(p, scale=m)"
   ]
  },
  {
   "cell_type": "code",
   "execution_count": 15,
   "metadata": {},
   "outputs": [
    {
     "data": {
      "text/plain": [
       "0.381047140781248"
      ]
     },
     "execution_count": 15,
     "metadata": {},
     "output_type": "execute_result"
    }
   ],
   "source": [
    "# P(x1 < x < x2)\n",
    "x1= 100\n",
    "x2= 4000\n",
    "P_x1= expon.cdf(x1, scale=m)\n",
    "P_x2= expon.cdf(x2, scale=m)\n",
    "P_x2 - P_x1"
   ]
  },
  {
   "cell_type": "code",
   "execution_count": 29,
   "metadata": {},
   "outputs": [
    {
     "data": {
      "text/plain": [
       "[<matplotlib.lines.Line2D at 0x1b1126732c8>]"
      ]
     },
     "execution_count": 29,
     "metadata": {},
     "output_type": "execute_result"
    },
    {
     "data": {
      "image/png": "[encoded data removed]",
      "text/plain": [
       "<Figure size 432x288 with 1 Axes>"
      ]
     },
     "metadata": {
      "needs_background": "light"
     },
     "output_type": "display_data"
    }
   ],
   "source": [
    "x99= expon.interval(0.9,0,m)             # calcula limites do intervalo com 90% da distribuição\n",
    "x= np.linspace(x99[0],x99[1],2000)       # gera um intervalo no eixo x\n",
    "plt.plot(x, expon.pdf(x))"
   ]
  },
  {
   "cell_type": "code",
   "execution_count": null,
   "metadata": {},
   "outputs": [],
   "source": []
  }
 ],
 "metadata": {
  "kernelspec": {
   "display_name": "Python 3",
   "language": "python",
   "name": "python3"
  },
  "language_info": {
   "codemirror_mode": {
    "name": "ipython",
    "version": 3
   },
   "file_extension": ".py",
   "mimetype": "text/x-python",
   "name": "python",
   "nbconvert_exporter": "python",
   "pygments_lexer": "ipython3",
   "version": "3.7.4"
  }
 },
 "nbformat": 4,
 "nbformat_minor": 2
}
