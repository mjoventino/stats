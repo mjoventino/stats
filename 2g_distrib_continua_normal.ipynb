{
 "cells": [
  {
   "cell_type": "markdown",
   "metadata": {},
   "source": [
    "## Distribuição Contínua Normal de Probabilidade\n",
    "### Parâmetros: média e desvio padrão"
   ]
  },
  {
   "cell_type": "code",
   "execution_count": 59,
   "metadata": {},
   "outputs": [],
   "source": [
    "from scipy.stats import norm\n",
    "import scipy.stats\n",
    "import pandas as pd\n",
    "import matplotlib.pyplot as plt\n",
    "import numpy as np\n",
    "import pandas as pd"
   ]
  },
  {
   "cell_type": "code",
   "execution_count": 67,
   "metadata": {},
   "outputs": [],
   "source": [
    "m= 2000                  # inserir a média\n",
    "std= 80 #5**0.5                # inserir o desvio padrão\n",
    "x= 2100                # inserir x para calculo cdf e sf\n",
    "#norm.rvs(m,std)"
   ]
  },
  {
   "cell_type": "code",
   "execution_count": 68,
   "metadata": {},
   "outputs": [
    {
     "data": {
      "text/html": [
       "<div>\n",
       "<style scoped>\n",
       "    .dataframe tbody tr th:only-of-type {\n",
       "        vertical-align: middle;\n",
       "    }\n",
       "\n",
       "    .dataframe tbody tr th {\n",
       "        vertical-align: top;\n",
       "    }\n",
       "\n",
       "    .dataframe thead th {\n",
       "        text-align: right;\n",
       "    }\n",
       "</style>\n",
       "<table border=\"1\" class=\"dataframe\">\n",
       "  <thead>\n",
       "    <tr style=\"text-align: right;\">\n",
       "      <th></th>\n",
       "      <th>Media</th>\n",
       "      <th>Std</th>\n",
       "      <th>x</th>\n",
       "      <th>z</th>\n",
       "      <th>p_cdf</th>\n",
       "      <th>p_sv</th>\n",
       "    </tr>\n",
       "  </thead>\n",
       "  <tbody>\n",
       "    <tr>\n",
       "      <th>0</th>\n",
       "      <td>2000</td>\n",
       "      <td>80</td>\n",
       "      <td>2100</td>\n",
       "      <td>1.25</td>\n",
       "      <td>0.89435</td>\n",
       "      <td>0.10565</td>\n",
       "    </tr>\n",
       "  </tbody>\n",
       "</table>\n",
       "</div>"
      ],
      "text/plain": [
       "   Media  Std     x     z    p_cdf     p_sv\n",
       "0   2000   80  2100  1.25  0.89435  0.10565"
      ]
     },
     "execution_count": 68,
     "metadata": {},
     "output_type": "execute_result"
    }
   ],
   "source": [
    "# executar esta célula sem alterar os valores\n",
    "z= (x - m) / std\n",
    "mz= 0\n",
    "std_z= 1\n",
    "rv= scipy.stats.norm(mz,std_z)\n",
    "# z= conversão de x para normal padrão\n",
    "p_cdf= rv.cdf(z)                # cumaltive dist func: area até x\n",
    "p_sv= rv.sf(z)                  # survival function: area depois de x  (1- cdf)    # sf is sometimes more accurate then 1-cdf\n",
    "d= {'Media':[m],'Std':[std],'x':[x],'z':[z],'p_cdf':[p_cdf], 'p_sv':[p_sv]}\n",
    "pd.DataFrame(data=d)"
   ]
  },
  {
   "cell_type": "code",
   "execution_count": 69,
   "metadata": {},
   "outputs": [
    {
     "data": {
      "text/plain": [
       "0.09944010834107919"
      ]
     },
     "execution_count": 69,
     "metadata": {},
     "output_type": "execute_result"
    }
   ],
   "source": [
    "# P(x1 < x < x2) = Probabilidade dentro do intervalo\n",
    "x1= 2100                            # inserir limites do intervalo\n",
    "x2= 2200                              # inserir limites do intervalo\n",
    "z1= (x1 - m) / std\n",
    "z2= (x2 - m) / std\n",
    "pcdf1= rv.cdf(z1)\n",
    "pcdf2= rv.cdf(z2)\n",
    "pcdf2 - pcdf1"
   ]
  },
  {
   "cell_type": "code",
   "execution_count": 70,
   "metadata": {},
   "outputs": [
    {
     "data": {
      "text/plain": [
       "1868.4117098438821"
      ]
     },
     "execution_count": 70,
     "metadata": {},
     "output_type": "execute_result"
    }
   ],
   "source": [
    "# x1 para P(x < x1) \n",
    "p1= 0.05            # probabilidade antes de x1\n",
    "z= rv.ppf(p1)        # inverse cdf\n",
    "x1= m + (z * std)\n",
    "x1"
   ]
  },
  {
   "cell_type": "code",
   "execution_count": 64,
   "metadata": {},
   "outputs": [
    {
     "data": {
      "text/plain": [
       "1868.4117098438821"
      ]
     },
     "execution_count": 64,
     "metadata": {},
     "output_type": "execute_result"
    }
   ],
   "source": [
    "# x2 para P(x > x2) \n",
    "p2= 0.95            # probabilidade depois de x2\n",
    "z= rv.isf(p2)        # inverse survival func: x2 para area p2 depois de x2\n",
    "x2= m + (z * std)\n",
    "x2"
   ]
  },
  {
   "cell_type": "code",
   "execution_count": 77,
   "metadata": {},
   "outputs": [
    {
     "data": {
      "text/plain": [
       "1.959963984540054"
      ]
     },
     "execution_count": 77,
     "metadata": {},
     "output_type": "execute_result"
    }
   ],
   "source": [
    "# x2 para P(x1 < x < x2)\n",
    "p_inteval= 0.4750            # P(x1 < x < x2) = probabilidade entre x1 e x2\n",
    "x1= 0\n",
    "pcdf1= rv.cdf(x1)            # area até x1\n",
    "pcdf2= pcdf1 + p_inteval     # area até x2\n",
    "z2= rv.ppf(pcdf2)            # inverse cdf\n",
    "x2= m + (z2 * std)\n",
    "x2"
   ]
  },
  {
   "cell_type": "code",
   "execution_count": 87,
   "metadata": {},
   "outputs": [
    {
     "data": {
      "text/plain": [
       "0.0"
      ]
     },
     "execution_count": 87,
     "metadata": {},
     "output_type": "execute_result"
    }
   ],
   "source": [
    "# x1 para P(x1 < x < x2)\n",
    "p_inteval= 0.4750            # probabilidade entre x1 e x2\n",
    "x2= 1.96\n",
    "pcdf2= rv.cdf(x2)            # area até x2\n",
    "pcdf1= pcdf2 - p_inteval     # area até x1\n",
    "z1= rv.ppf(pcdf1)            # inverse cdf\n",
    "x1= m + (z1 * std)\n",
    "round(x1,4)"
   ]
  },
  {
   "cell_type": "code",
   "execution_count": 72,
   "metadata": {},
   "outputs": [
    {
     "data": {
      "text/plain": [
       "-1.6448536269514722"
      ]
     },
     "execution_count": 72,
     "metadata": {},
     "output_type": "execute_result"
    }
   ],
   "source": [
    "# x1 para P(x > x1)\n",
    "P= 0.95\n",
    "rv.isf(P)     # x1 para P(x > x1) = inverse survival func: x1 para area p depois de x1"
   ]
  },
  {
   "cell_type": "code",
   "execution_count": 74,
   "metadata": {},
   "outputs": [
    {
     "data": {
      "text/plain": [
       "2131.5882901561176"
      ]
     },
     "execution_count": 74,
     "metadata": {},
     "output_type": "execute_result"
    }
   ],
   "source": [
    "# x1 para P(x < x1)\n",
    "P= 0.95\n",
    "z= rv.ppf(P)        # inverse cdf\n",
    "x1= m + (z * std)\n",
    "x1 "
   ]
  },
  {
   "cell_type": "code",
   "execution_count": 37,
   "metadata": {},
   "outputs": [
    {
     "data": {
      "text/plain": [
       "[<matplotlib.lines.Line2D at 0x1cf15831388>]"
      ]
     },
     "execution_count": 37,
     "metadata": {},
     "output_type": "execute_result"
    },
    {
     "data": {
      "image/png": "[encoded data removed]",
      "text/plain": [
       "<Figure size 432x288 with 1 Axes>"
      ]
     },
     "metadata": {
      "needs_background": "light"
     },
     "output_type": "display_data"
    }
   ],
   "source": [
    "rv= scipy.stats.norm(m,std)\n",
    "x99= norm.interval(0.999,m,std)             # calcula limites do intervalo com 99% da distribuição\n",
    "x= np.linspace(x99[0],x99[1],5000)       # gera um intervalo no eixo x\n",
    "plt.plot(x, rv.pdf(x))"
   ]
  },
  {
   "cell_type": "code",
   "execution_count": 18,
   "metadata": {},
   "outputs": [
    {
     "data": {
      "text/plain": [
       "488.625"
      ]
     },
     "execution_count": 18,
     "metadata": {},
     "output_type": "execute_result"
    }
   ],
   "source": [
    "500*0.97725"
   ]
  },
  {
   "cell_type": "code",
   "execution_count": null,
   "metadata": {},
   "outputs": [],
   "source": []
  }
 ],
 "metadata": {
  "kernelspec": {
   "display_name": "Python 3",
   "language": "python",
   "name": "python3"
  },
  "language_info": {
   "codemirror_mode": {
    "name": "ipython",
    "version": 3
   },
   "file_extension": ".py",
   "mimetype": "text/x-python",
   "name": "python",
   "nbconvert_exporter": "python",
   "pygments_lexer": "ipython3",
   "version": "3.7.4"
  }
 },
 "nbformat": 4,
 "nbformat_minor": 2
}
