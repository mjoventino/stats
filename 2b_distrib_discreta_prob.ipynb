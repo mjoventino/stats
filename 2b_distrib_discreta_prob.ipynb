{
 "cells": [
  {
   "cell_type": "markdown",
   "metadata": {},
   "source": [
    "## Distribuição Discreta de Probabilidade"
   ]
  },
  {
   "cell_type": "markdown",
   "metadata": {},
   "source": [
    "## Propriedades da Esperança Matetática ou Valor Esperado ou Média\n",
    "### E(cX) = c.E(X), para c constante\n",
    "### E(X+Y) = E(X) + E(Y)\n",
    "### E(X1 + X2 + Xn) = E(X1) + E(X2) + E(Xn)"
   ]
  },
  {
   "cell_type": "markdown",
   "metadata": {},
   "source": [
    "## Propriedades da Variância\n",
    "### Var(X+c) = Var(X), para c constante\n",
    "### Var(cX) = c**2 . Var(X)\n",
    "## Var(X+Y) = Var(X) + Var(Y)"
   ]
  },
  {
   "cell_type": "code",
   "execution_count": 1,
   "metadata": {},
   "outputs": [],
   "source": [
    "import pandas as pd\n",
    "import matplotlib.pyplot as plt\n",
    "import seaborn as sns"
   ]
  },
  {
   "cell_type": "code",
   "execution_count": 2,
   "metadata": {},
   "outputs": [],
   "source": [
    "def Total_col(df):\n",
    "    l_index= list(range(df.shape[0]))\n",
    "    l_index.append('total')\n",
    "    df = df.append(df.sum(),ignore_index=True)\n",
    "    df['index']= l_index\n",
    "    df.set_index('index',inplace=True)\n",
    "    return df"
   ]
  },
  {
   "cell_type": "code",
   "execution_count": 3,
   "metadata": {},
   "outputs": [],
   "source": [
    "def Total_col2(df,s_index, l_index):\n",
    "    df = df.append(df.sum(), ignore_index=True)\n",
    "    df[s_index]= l_index\n",
    "    df.set_index(s_index, inplace=True)\n",
    "    return df"
   ]
  },
  {
   "cell_type": "code",
   "execution_count": 4,
   "metadata": {},
   "outputs": [
    {
     "data": {
      "text/html": [
       "<div>\n",
       "<style scoped>\n",
       "    .dataframe tbody tr th:only-of-type {\n",
       "        vertical-align: middle;\n",
       "    }\n",
       "\n",
       "    .dataframe tbody tr th {\n",
       "        vertical-align: top;\n",
       "    }\n",
       "\n",
       "    .dataframe thead th {\n",
       "        text-align: right;\n",
       "    }\n",
       "</style>\n",
       "<table border=\"1\" class=\"dataframe\">\n",
       "  <thead>\n",
       "    <tr style=\"text-align: right;\">\n",
       "      <th>x</th>\n",
       "      <th>0</th>\n",
       "      <th>1</th>\n",
       "      <th>2</th>\n",
       "      <th>3</th>\n",
       "      <th>4</th>\n",
       "      <th>5</th>\n",
       "      <th>6</th>\n",
       "      <th>7</th>\n",
       "      <th>total</th>\n",
       "    </tr>\n",
       "  </thead>\n",
       "  <tbody>\n",
       "    <tr>\n",
       "      <th>y</th>\n",
       "      <td>16</td>\n",
       "      <td>19</td>\n",
       "      <td>15</td>\n",
       "      <td>21</td>\n",
       "      <td>9</td>\n",
       "      <td>10</td>\n",
       "      <td>8</td>\n",
       "      <td>2</td>\n",
       "      <td>100</td>\n",
       "    </tr>\n",
       "  </tbody>\n",
       "</table>\n",
       "</div>"
      ],
      "text/plain": [
       "x   0   1   2   3  4   5  6  7  total\n",
       "y  16  19  15  21  9  10  8  2    100"
      ]
     },
     "execution_count": 4,
     "metadata": {},
     "output_type": "execute_result"
    }
   ],
   "source": [
    "i= [0,1,2,3,4,5,6,7]\n",
    "d = {'y':[16,19,15,21,9,10,8,2]}\n",
    "it= i[:]\n",
    "it.append('total')\n",
    "dfi = pd.DataFrame(data=d)\n",
    "dft= Total_col(dfi.copy())\n",
    "dft['x']= it\n",
    "dft.set_index('x', inplace=True)\n",
    "dft.transpose()"
   ]
  },
  {
   "cell_type": "code",
   "execution_count": 5,
   "metadata": {},
   "outputs": [
    {
     "data": {
      "text/html": [
       "<div>\n",
       "<style scoped>\n",
       "    .dataframe tbody tr th:only-of-type {\n",
       "        vertical-align: middle;\n",
       "    }\n",
       "\n",
       "    .dataframe tbody tr th {\n",
       "        vertical-align: top;\n",
       "    }\n",
       "\n",
       "    .dataframe thead th {\n",
       "        text-align: right;\n",
       "    }\n",
       "</style>\n",
       "<table border=\"1\" class=\"dataframe\">\n",
       "  <thead>\n",
       "    <tr style=\"text-align: right;\">\n",
       "      <th>x</th>\n",
       "      <th>0</th>\n",
       "      <th>1</th>\n",
       "      <th>2</th>\n",
       "      <th>3</th>\n",
       "      <th>4</th>\n",
       "      <th>5</th>\n",
       "      <th>6</th>\n",
       "      <th>7</th>\n",
       "      <th>total</th>\n",
       "    </tr>\n",
       "  </thead>\n",
       "  <tbody>\n",
       "    <tr>\n",
       "      <th>P</th>\n",
       "      <td>0.16</td>\n",
       "      <td>0.19</td>\n",
       "      <td>0.15</td>\n",
       "      <td>0.21</td>\n",
       "      <td>0.09</td>\n",
       "      <td>0.1</td>\n",
       "      <td>0.08</td>\n",
       "      <td>0.02</td>\n",
       "      <td>1.0</td>\n",
       "    </tr>\n",
       "  </tbody>\n",
       "</table>\n",
       "</div>"
      ],
      "text/plain": [
       "x     0     1     2     3     4    5     6     7  total\n",
       "P  0.16  0.19  0.15  0.21  0.09  0.1  0.08  0.02    1.0"
      ]
     },
     "execution_count": 5,
     "metadata": {},
     "output_type": "execute_result"
    }
   ],
   "source": [
    "dfp= dfi.div(dfi.sum().astype(float),axis=1) \n",
    "dfp['x']= i\n",
    "dfp.rename(columns={'y':'P'}, inplace=True)\n",
    "dfpt= Total_col(dfp)\n",
    "dfpt['x']=it\n",
    "dfpt.rename(columns={'y':'P(x)'}, inplace=True)\n",
    "dfpt.set_index('x',inplace=True)\n",
    "dfpt.transpose()"
   ]
  },
  {
   "cell_type": "code",
   "execution_count": 6,
   "metadata": {},
   "outputs": [
    {
     "data": {
      "text/plain": [
       "array([0.16, 0.19, 0.15, 0.21, 0.09, 0.1 , 0.08, 0.02])"
      ]
     },
     "execution_count": 6,
     "metadata": {},
     "output_type": "execute_result"
    }
   ],
   "source": [
    "dfp['P'].values"
   ]
  },
  {
   "cell_type": "code",
   "execution_count": 7,
   "metadata": {},
   "outputs": [
    {
     "data": {
      "image/png": "[encoded data removed]",
      "text/plain": [
       "<Figure size 432x288 with 1 Axes>"
      ]
     },
     "metadata": {
      "needs_background": "light"
     },
     "output_type": "display_data"
    }
   ],
   "source": [
    "l_x= i\n",
    "p_x= dfp['P'].values\n",
    "plt.xlabel('x')\n",
    "plt.ylabel('Probabilidade')\n",
    "plt.title('Distribuição Discreta de Probabilidade')\n",
    "plt.bar(l_x,p_x, width=0.4)\n",
    "plt.show()"
   ]
  },
  {
   "cell_type": "code",
   "execution_count": 7,
   "metadata": {},
   "outputs": [
    {
     "data": {
      "text/html": [
       "<div>\n",
       "<style scoped>\n",
       "    .dataframe tbody tr th:only-of-type {\n",
       "        vertical-align: middle;\n",
       "    }\n",
       "\n",
       "    .dataframe tbody tr th {\n",
       "        vertical-align: top;\n",
       "    }\n",
       "\n",
       "    .dataframe thead th {\n",
       "        text-align: right;\n",
       "    }\n",
       "</style>\n",
       "<table border=\"1\" class=\"dataframe\">\n",
       "  <thead>\n",
       "    <tr style=\"text-align: right;\">\n",
       "      <th>index</th>\n",
       "      <th>0</th>\n",
       "      <th>1</th>\n",
       "      <th>2</th>\n",
       "      <th>3</th>\n",
       "      <th>4</th>\n",
       "      <th>5</th>\n",
       "      <th>6</th>\n",
       "      <th>7</th>\n",
       "      <th>total</th>\n",
       "    </tr>\n",
       "  </thead>\n",
       "  <tbody>\n",
       "    <tr>\n",
       "      <th>P</th>\n",
       "      <td>0.1600</td>\n",
       "      <td>0.1900</td>\n",
       "      <td>0.150</td>\n",
       "      <td>0.2100</td>\n",
       "      <td>0.0900</td>\n",
       "      <td>0.100</td>\n",
       "      <td>0.0800</td>\n",
       "      <td>0.0200</td>\n",
       "      <td>1.00</td>\n",
       "    </tr>\n",
       "    <tr>\n",
       "      <th>xP</th>\n",
       "      <td>0.0000</td>\n",
       "      <td>0.1900</td>\n",
       "      <td>0.300</td>\n",
       "      <td>0.6300</td>\n",
       "      <td>0.3600</td>\n",
       "      <td>0.500</td>\n",
       "      <td>0.4800</td>\n",
       "      <td>0.1400</td>\n",
       "      <td>2.60</td>\n",
       "    </tr>\n",
       "    <tr>\n",
       "      <th>Var_x</th>\n",
       "      <td>1.0816</td>\n",
       "      <td>0.4864</td>\n",
       "      <td>0.054</td>\n",
       "      <td>0.0336</td>\n",
       "      <td>0.1764</td>\n",
       "      <td>0.576</td>\n",
       "      <td>0.9248</td>\n",
       "      <td>0.3872</td>\n",
       "      <td>3.72</td>\n",
       "    </tr>\n",
       "  </tbody>\n",
       "</table>\n",
       "</div>"
      ],
      "text/plain": [
       "index       0       1      2       3       4      5       6       7  total\n",
       "P      0.1600  0.1900  0.150  0.2100  0.0900  0.100  0.0800  0.0200   1.00\n",
       "xP     0.0000  0.1900  0.300  0.6300  0.3600  0.500  0.4800  0.1400   2.60\n",
       "Var_x  1.0816  0.4864  0.054  0.0336  0.1764  0.576  0.9248  0.3872   3.72"
      ]
     },
     "execution_count": 7,
     "metadata": {},
     "output_type": "execute_result"
    }
   ],
   "source": [
    "df= dfp.copy()\n",
    "df['xP'] = df['x'] * df['P']\n",
    "Ex = df['xP'].sum()\n",
    "df['Var_x']= ((df['x']-Ex)**2) * df['P']\n",
    "df.set_index('x', inplace=True)\n",
    "Total_col(df.copy()).transpose()\n",
    "#dft.transpose()"
   ]
  },
  {
   "cell_type": "code",
   "execution_count": 8,
   "metadata": {},
   "outputs": [
    {
     "data": {
      "text/plain": [
       "0.5"
      ]
     },
     "execution_count": 8,
     "metadata": {},
     "output_type": "execute_result"
    }
   ],
   "source": [
    "# Probabilidade conjuta: index1 a index2\n",
    "index1= 0\n",
    "index2= 2\n",
    "dfp.iloc[index1:index2+1,0].sum()"
   ]
  },
  {
   "cell_type": "code",
   "execution_count": 9,
   "metadata": {},
   "outputs": [
    {
     "data": {
      "text/html": [
       "<div>\n",
       "<style scoped>\n",
       "    .dataframe tbody tr th:only-of-type {\n",
       "        vertical-align: middle;\n",
       "    }\n",
       "\n",
       "    .dataframe tbody tr th {\n",
       "        vertical-align: top;\n",
       "    }\n",
       "\n",
       "    .dataframe thead th {\n",
       "        text-align: right;\n",
       "    }\n",
       "</style>\n",
       "<table border=\"1\" class=\"dataframe\">\n",
       "  <thead>\n",
       "    <tr style=\"text-align: right;\">\n",
       "      <th></th>\n",
       "      <th>E(x)</th>\n",
       "      <th>Var(x)</th>\n",
       "      <th>std(x)</th>\n",
       "    </tr>\n",
       "  </thead>\n",
       "  <tbody>\n",
       "    <tr>\n",
       "      <th>0</th>\n",
       "      <td>2.6</td>\n",
       "      <td>3.72</td>\n",
       "      <td>1.92873</td>\n",
       "    </tr>\n",
       "  </tbody>\n",
       "</table>\n",
       "</div>"
      ],
      "text/plain": [
       "   E(x)  Var(x)   std(x)\n",
       "0   2.6    3.72  1.92873"
      ]
     },
     "execution_count": 9,
     "metadata": {},
     "output_type": "execute_result"
    }
   ],
   "source": [
    "Var_x = df['Var_x'].sum()\n",
    "std_x = Var_x ** 0.5\n",
    "ds = {'E(x)':[Ex], \n",
    "    'Var(x)':[Var_x],\n",
    "     'std(x)':[std_x]}\n",
    "dfs = pd.DataFrame(data=ds)\n",
    "dfs"
   ]
  },
  {
   "cell_type": "code",
   "execution_count": null,
   "metadata": {},
   "outputs": [],
   "source": []
  }
 ],
 "metadata": {
  "kernelspec": {
   "display_name": "Python 3",
   "language": "python",
   "name": "python3"
  },
  "language_info": {
   "codemirror_mode": {
    "name": "ipython",
    "version": 3
   },
   "file_extension": ".py",
   "mimetype": "text/x-python",
   "name": "python",
   "nbconvert_exporter": "python",
   "pygments_lexer": "ipython3",
   "version": "3.7.4"
  }
 },
 "nbformat": 4,
 "nbformat_minor": 2
}
