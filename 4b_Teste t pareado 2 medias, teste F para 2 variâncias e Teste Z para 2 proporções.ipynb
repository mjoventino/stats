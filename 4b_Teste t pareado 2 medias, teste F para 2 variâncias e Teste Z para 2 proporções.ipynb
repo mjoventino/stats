{
 "cells": [
  {
   "cell_type": "markdown",
   "metadata": {},
   "source": [
    "# Notebook com Testes para 2 amostras:\n",
    "- [2 médias com amostras pareadas](#2mediasp)\n",
    "- [2 variâncias](#2var)\n",
    "- [2 médias de populações independentes - rodar teste variâncias primeiro](#2mediasi)\n",
    "- [2 proporções](#2p)"
   ]
  },
  {
   "cell_type": "code",
   "execution_count": 1,
   "metadata": {},
   "outputs": [],
   "source": [
    "#from scipy.stats import norm\n",
    "import scipy.stats\n",
    "from scipy.stats import t as t_student\n",
    "import pandas as pd"
   ]
  },
  {
   "cell_type": "code",
   "execution_count": 2,
   "metadata": {},
   "outputs": [],
   "source": [
    "def rej0(p, alfa):\n",
    "    if (p<= alfa): r_teste= 'rejeitar'\n",
    "    else: r_teste= 'não rejeitar'\n",
    "    return r_teste"
   ]
  },
  {
   "cell_type": "markdown",
   "metadata": {},
   "source": [
    "<a id='2mediasp '></a>\n",
    "## Teste t-Student para 2 médias (amostras pareadas)\n",
    "### 2 levantamentos de dados da mesma amostra (X, Y) com a interferência de um fator:\n",
    "- comparar o peso antes e depois da dieta\n",
    "- tempo de resposta de sistema antes e depois de modificações\n",
    "- pressão arterial antes e depois da medicação\n",
    "- ambas as populações devem ter distribuição normal"
   ]
  },
  {
   "cell_type": "code",
   "execution_count": 10,
   "metadata": {},
   "outputs": [
    {
     "data": {
      "text/html": [
       "<div>\n",
       "<style scoped>\n",
       "    .dataframe tbody tr th:only-of-type {\n",
       "        vertical-align: middle;\n",
       "    }\n",
       "\n",
       "    .dataframe tbody tr th {\n",
       "        vertical-align: top;\n",
       "    }\n",
       "\n",
       "    .dataframe thead th {\n",
       "        text-align: right;\n",
       "    }\n",
       "</style>\n",
       "<table border=\"1\" class=\"dataframe\">\n",
       "  <thead>\n",
       "    <tr style=\"text-align: right;\">\n",
       "      <th></th>\n",
       "      <th>x</th>\n",
       "      <th>y</th>\n",
       "      <th>x-y</th>\n",
       "    </tr>\n",
       "  </thead>\n",
       "  <tbody>\n",
       "    <tr>\n",
       "      <th>0</th>\n",
       "      <td>16</td>\n",
       "      <td>13</td>\n",
       "      <td>3</td>\n",
       "    </tr>\n",
       "    <tr>\n",
       "      <th>1</th>\n",
       "      <td>15</td>\n",
       "      <td>13</td>\n",
       "      <td>2</td>\n",
       "    </tr>\n",
       "    <tr>\n",
       "      <th>2</th>\n",
       "      <td>11</td>\n",
       "      <td>12</td>\n",
       "      <td>-1</td>\n",
       "    </tr>\n",
       "    <tr>\n",
       "      <th>3</th>\n",
       "      <td>20</td>\n",
       "      <td>16</td>\n",
       "      <td>4</td>\n",
       "    </tr>\n",
       "    <tr>\n",
       "      <th>4</th>\n",
       "      <td>19</td>\n",
       "      <td>16</td>\n",
       "      <td>3</td>\n",
       "    </tr>\n",
       "    <tr>\n",
       "      <th>5</th>\n",
       "      <td>14</td>\n",
       "      <td>11</td>\n",
       "      <td>3</td>\n",
       "    </tr>\n",
       "    <tr>\n",
       "      <th>6</th>\n",
       "      <td>13</td>\n",
       "      <td>10</td>\n",
       "      <td>3</td>\n",
       "    </tr>\n",
       "    <tr>\n",
       "      <th>7</th>\n",
       "      <td>15</td>\n",
       "      <td>15</td>\n",
       "      <td>0</td>\n",
       "    </tr>\n",
       "    <tr>\n",
       "      <th>8</th>\n",
       "      <td>14</td>\n",
       "      <td>9</td>\n",
       "      <td>5</td>\n",
       "    </tr>\n",
       "    <tr>\n",
       "      <th>9</th>\n",
       "      <td>16</td>\n",
       "      <td>16</td>\n",
       "      <td>0</td>\n",
       "    </tr>\n",
       "  </tbody>\n",
       "</table>\n",
       "</div>"
      ],
      "text/plain": [
       "    x   y  x-y\n",
       "0  16  13    3\n",
       "1  15  13    2\n",
       "2  11  12   -1\n",
       "3  20  16    4\n",
       "4  19  16    3\n",
       "5  14  11    3\n",
       "6  13  10    3\n",
       "7  15  15    0\n",
       "8  14   9    5\n",
       "9  16  16    0"
      ]
     },
     "execution_count": 10,
     "metadata": {},
     "output_type": "execute_result"
    }
   ],
   "source": [
    "d= {'x': [16, 15, 11, 20, 19, 14, 13, 15, 14, 16],\n",
    "    'y': [13, 13, 12, 16, 16, 11, 10, 15, 9, 16]}\n",
    "alfa= 0.01\n",
    "df= pd.DataFrame(d)\n",
    "df['x-y']= df.x - df.y\n",
    "df"
   ]
  },
  {
   "cell_type": "code",
   "execution_count": 11,
   "metadata": {},
   "outputs": [
    {
     "data": {
      "text/html": [
       "<div>\n",
       "<style scoped>\n",
       "    .dataframe tbody tr th:only-of-type {\n",
       "        vertical-align: middle;\n",
       "    }\n",
       "\n",
       "    .dataframe tbody tr th {\n",
       "        vertical-align: top;\n",
       "    }\n",
       "\n",
       "    .dataframe thead th {\n",
       "        text-align: right;\n",
       "    }\n",
       "</style>\n",
       "<table border=\"1\" class=\"dataframe\">\n",
       "  <thead>\n",
       "    <tr style=\"text-align: right;\">\n",
       "      <th></th>\n",
       "      <th>Média diferença</th>\n",
       "      <th>Tam Amostra</th>\n",
       "      <th>std (x-y)</th>\n",
       "      <th>t_teste</th>\n",
       "      <th>vlr_p</th>\n",
       "      <th>Nivel de Significância</th>\n",
       "      <th>H0</th>\n",
       "      <th>Teste H0</th>\n",
       "      <th>Interv. Conf</th>\n",
       "    </tr>\n",
       "  </thead>\n",
       "  <tbody>\n",
       "    <tr>\n",
       "      <th>teste bicaudal</th>\n",
       "      <td>2.2</td>\n",
       "      <td>10</td>\n",
       "      <td>1.932184</td>\n",
       "      <td>3.600595</td>\n",
       "      <td>0.005743</td>\n",
       "      <td>0.01</td>\n",
       "      <td>media_x = media_y</td>\n",
       "      <td>rejeitar</td>\n",
       "      <td>(0.2143, 4.1857)</td>\n",
       "    </tr>\n",
       "  </tbody>\n",
       "</table>\n",
       "</div>"
      ],
      "text/plain": [
       "                Média diferença  Tam Amostra  std (x-y)   t_teste     vlr_p  \\\n",
       "teste bicaudal              2.2           10   1.932184  3.600595  0.005743   \n",
       "\n",
       "                Nivel de Significância                 H0  Teste H0  \\\n",
       "teste bicaudal                    0.01  media_x = media_y  rejeitar   \n",
       "\n",
       "                    Interv. Conf  \n",
       "teste bicaudal  (0.2143, 4.1857)  "
      ]
     },
     "execution_count": 11,
     "metadata": {},
     "output_type": "execute_result"
    }
   ],
   "source": [
    "mean_d= df['x-y'].mean()\n",
    "std_d= df['x-y'].std()\n",
    "n= df.shape[0]\n",
    "T= df['x-y'].mean() / ( df['x-y'].std() / df.shape[0]**0.5 )\n",
    "rv= t_student(n-1)\n",
    "vlr_p= 2* rv.sf(abs(T))\n",
    "t_alfa= rv.isf(alfa/2)\n",
    "margem_err= abs(rv.ppf(alfa/2) * std_d / n**0.5)\n",
    "intervalo_confianca= (round(mean_d-margem_err,4), round(mean_d+margem_err,4))\n",
    "d= {'Média diferença':[mean_d], 'Tam Amostra':[n], 'std (x-y)':[std_d], 't_teste':[T], \n",
    "    'vlr_p':[vlr_p], 'Nivel de Significância':[alfa],'H0':['media_x = media_y'],'Teste H0':[rej0(vlr_p,alfa)], \n",
    "    'Interv. Conf':[intervalo_confianca]}\n",
    "# aceitar H0 se intervalo_confianca contém zero\n",
    "pd.DataFrame(d,index=['teste bicaudal'])"
   ]
  },
  {
   "cell_type": "markdown",
   "metadata": {},
   "source": [
    "<a id='2var'></a>\n",
    "## Teste F para 2 variâncias"
   ]
  },
  {
   "cell_type": "code",
   "execution_count": 3,
   "metadata": {},
   "outputs": [],
   "source": [
    "from scipy.stats import f"
   ]
  },
  {
   "cell_type": "code",
   "execution_count": 4,
   "metadata": {},
   "outputs": [],
   "source": [
    "def rejF(F, FL, FR):\n",
    "    if (F < FL or F > FR): resp_F= 'rejeitar'\n",
    "    else: resp_F= 'não rejeitar'\n",
    "    return resp_F    "
   ]
  },
  {
   "cell_type": "code",
   "execution_count": 5,
   "metadata": {},
   "outputs": [],
   "source": [
    "n1= 9                   # nr de elementos da amostra da população 1\n",
    "var1= 2.2871**2             # variância da amostra da população 1\n",
    "n2= 9                   # nr de elementos da amostra da população 2\n",
    "var2= 2.7017**2             # variância da amostra da população 2\n",
    "alfa= 0.05                # nivel de significância\n",
    "#  H0: var1 = var2   e    Ha: var1 <> var2"
   ]
  },
  {
   "cell_type": "code",
   "execution_count": 6,
   "metadata": {},
   "outputs": [
    {
     "data": {
      "text/html": [
       "<div>\n",
       "<style scoped>\n",
       "    .dataframe tbody tr th:only-of-type {\n",
       "        vertical-align: middle;\n",
       "    }\n",
       "\n",
       "    .dataframe tbody tr th {\n",
       "        vertical-align: top;\n",
       "    }\n",
       "\n",
       "    .dataframe thead th {\n",
       "        text-align: right;\n",
       "    }\n",
       "</style>\n",
       "<table border=\"1\" class=\"dataframe\">\n",
       "  <thead>\n",
       "    <tr style=\"text-align: right;\">\n",
       "      <th></th>\n",
       "      <th>Nivel de Significância</th>\n",
       "      <th>Tam Amostra1</th>\n",
       "      <th>Variância 1</th>\n",
       "      <th>Tam Amostra2</th>\n",
       "      <th>Variância 2</th>\n",
       "      <th>F</th>\n",
       "      <th>FL</th>\n",
       "      <th>FR</th>\n",
       "      <th>H0</th>\n",
       "      <th>Teste H0</th>\n",
       "    </tr>\n",
       "  </thead>\n",
       "  <tbody>\n",
       "    <tr>\n",
       "      <th>teste bicaudal</th>\n",
       "      <td>0.05</td>\n",
       "      <td>9</td>\n",
       "      <td>5.230826</td>\n",
       "      <td>9</td>\n",
       "      <td>7.299183</td>\n",
       "      <td>0.716632</td>\n",
       "      <td>0.225568</td>\n",
       "      <td>4.43326</td>\n",
       "      <td>variância_1 = variância_2</td>\n",
       "      <td>não rejeitar</td>\n",
       "    </tr>\n",
       "  </tbody>\n",
       "</table>\n",
       "</div>"
      ],
      "text/plain": [
       "                Nivel de Significância  Tam Amostra1  Variância 1  \\\n",
       "teste bicaudal                    0.05             9     5.230826   \n",
       "\n",
       "                Tam Amostra2  Variância 2         F        FL       FR  \\\n",
       "teste bicaudal             9     7.299183  0.716632  0.225568  4.43326   \n",
       "\n",
       "                                       H0      Teste H0  \n",
       "teste bicaudal  variância_1 = variância_2  não rejeitar  "
      ]
     },
     "execution_count": 6,
     "metadata": {},
     "output_type": "execute_result"
    }
   ],
   "source": [
    "F= var1 / var2\n",
    "FL= 1 / f.isf(alfa/2, n2-1, n1-1)\n",
    "FR= f.isf(alfa/2, n1-1, n2-1)\n",
    "d= {'Nivel de Significância':[alfa], 'Tam Amostra1':[n1], 'Variância 1':[var1], 'Tam Amostra2':[n2], 'Variância 2':[var2], \n",
    "    'F':[F], 'FL':[FL], 'FR': [FR], 'H0':['variância_1 = variância_2'],'Teste H0':[rejF(F, FL, FR)]}\n",
    "# rejeitar H0 se F < FL  ou   F > FR\n",
    "pd.DataFrame(d,index=['teste bicaudal'])"
   ]
  },
  {
   "cell_type": "markdown",
   "metadata": {},
   "source": [
    "<a id='2mediasi'></a>\n",
    "## Após verificar se var1 = var2, podem ser comparadas as médias de populações independentes com as suposições:\n",
    "- as 2 amostras são independentes\n",
    "- as 2 amostras são extraídas aleatoriamente de populações distribuídas normalmente"
   ]
  },
  {
   "cell_type": "code",
   "execution_count": 10,
   "metadata": {},
   "outputs": [],
   "source": [
    "def Rej(p, alfa):\n",
    "    if (p<= alfa): r_teste= 'rejeitar'\n",
    "    else: r_teste= 'não rejeitar'\n",
    "    return r_teste \n",
    "d_cauda={'i':'Teste de cauda inferior', 's': 'Teste de cauda superior', 'b':'Teste bicaudal'} \n",
    "def Tp_testeM(cauda):\n",
    "    if(cauda=='i'):    \n",
    "        tp_teste=d_cauda.get(cauda)\n",
    "        H0= 'media1 >= media2'\n",
    "        Ha= 'media1 < media2 '\n",
    "    elif(cauda=='s'):  \n",
    "        tp_teste=d_cauda.get(cauda)\n",
    "        H0= 'media1 <= media2'\n",
    "        Ha= 'media1 > media2'\n",
    "    elif(cauda== 'b'): \n",
    "        tp_teste=d_cauda.get(cauda)\n",
    "        H0= 'media1 = media2'\n",
    "        Ha= 'media1 <> media2'\n",
    "    else: tp_teste='indefinido'\n",
    "    l_teste= [H0,Ha,tp_teste]\n",
    "    return l_teste"
   ]
  },
  {
   "cell_type": "markdown",
   "metadata": {},
   "source": [
    "### [ir para: var1 <> var2 (Heterocedásticas)](#2mi_caso2)"
   ]
  },
  {
   "cell_type": "markdown",
   "metadata": {},
   "source": [
    "## Comparar 2 médias de populações com var1 = var2 (Homocedásticas)"
   ]
  },
  {
   "cell_type": "code",
   "execution_count": 11,
   "metadata": {},
   "outputs": [
    {
     "data": {
      "text/html": [
       "<div>\n",
       "<style scoped>\n",
       "    .dataframe tbody tr th:only-of-type {\n",
       "        vertical-align: middle;\n",
       "    }\n",
       "\n",
       "    .dataframe tbody tr th {\n",
       "        vertical-align: top;\n",
       "    }\n",
       "\n",
       "    .dataframe thead th {\n",
       "        text-align: right;\n",
       "    }\n",
       "</style>\n",
       "<table border=\"1\" class=\"dataframe\">\n",
       "  <thead>\n",
       "    <tr style=\"text-align: right;\">\n",
       "      <th></th>\n",
       "      <th>H0</th>\n",
       "      <th>Ha</th>\n",
       "      <th>Tipo</th>\n",
       "      <th>m1</th>\n",
       "      <th>n1</th>\n",
       "      <th>m2</th>\n",
       "      <th>n2</th>\n",
       "      <th>var</th>\n",
       "    </tr>\n",
       "  </thead>\n",
       "  <tbody>\n",
       "    <tr>\n",
       "      <th>Teste</th>\n",
       "      <td>media1 = media2</td>\n",
       "      <td>media1 &lt;&gt; media2</td>\n",
       "      <td>Teste bicaudal</td>\n",
       "      <td>18</td>\n",
       "      <td>9</td>\n",
       "      <td>21</td>\n",
       "      <td>9</td>\n",
       "      <td>6.265005</td>\n",
       "    </tr>\n",
       "  </tbody>\n",
       "</table>\n",
       "</div>"
      ],
      "text/plain": [
       "                    H0                Ha            Tipo  m1  n1  m2  n2  \\\n",
       "Teste  media1 = media2  media1 <> media2  Teste bicaudal  18   9  21   9   \n",
       "\n",
       "            var  \n",
       "Teste  6.265005  "
      ]
     },
     "execution_count": 11,
     "metadata": {},
     "output_type": "execute_result"
    }
   ],
   "source": [
    "# nr de elementos e variância definidas na célula de teste das variâncias\n",
    "m1= 18                            # média da amostra da população 1\n",
    "m2= 21                            # média da amostra da população 2\n",
    "cauda='b'\n",
    "alfa= 0.05\n",
    "## rodar a célula\n",
    "var= ( (n1-1)*var1 + (n2-1)*var2 ) / ( n1-1 + n2-1 )\n",
    "l_teste= Tp_testeM(cauda)   \n",
    "d={'H0':[l_teste[0]], 'Ha':[l_teste[1]],'Tipo':[l_teste[2]], 'm1':[m1], 'n1':[n1], 'm2':[m2], 'n2':[n2], 'var':[var]}\n",
    "pd.DataFrame(d, index=['Teste'])"
   ]
  },
  {
   "cell_type": "code",
   "execution_count": null,
   "metadata": {},
   "outputs": [],
   "source": []
  },
  {
   "cell_type": "code",
   "execution_count": 12,
   "metadata": {},
   "outputs": [
    {
     "data": {
      "text/html": [
       "<div>\n",
       "<style scoped>\n",
       "    .dataframe tbody tr th:only-of-type {\n",
       "        vertical-align: middle;\n",
       "    }\n",
       "\n",
       "    .dataframe tbody tr th {\n",
       "        vertical-align: top;\n",
       "    }\n",
       "\n",
       "    .dataframe thead th {\n",
       "        text-align: right;\n",
       "    }\n",
       "</style>\n",
       "<table border=\"1\" class=\"dataframe\">\n",
       "  <thead>\n",
       "    <tr style=\"text-align: right;\">\n",
       "      <th></th>\n",
       "      <th>var</th>\n",
       "      <th>vlr_p</th>\n",
       "      <th>Nivel de Significância</th>\n",
       "      <th>t_teste</th>\n",
       "      <th>t_alfa/2</th>\n",
       "      <th>H0</th>\n",
       "      <th>Interv. Conf</th>\n",
       "      <th>Teste H0</th>\n",
       "    </tr>\n",
       "  </thead>\n",
       "  <tbody>\n",
       "    <tr>\n",
       "      <th>Teste bicaudal</th>\n",
       "      <td>6.265005</td>\n",
       "      <td>0.021729</td>\n",
       "      <td>0.05</td>\n",
       "      <td>-2.542534</td>\n",
       "      <td>2.119905</td>\n",
       "      <td>media1 = media2</td>\n",
       "      <td>(-5.5013, -0.4987)</td>\n",
       "      <td>rejeitar</td>\n",
       "    </tr>\n",
       "  </tbody>\n",
       "</table>\n",
       "</div>"
      ],
      "text/plain": [
       "                     var     vlr_p  Nivel de Significância   t_teste  \\\n",
       "Teste bicaudal  6.265005  0.021729                    0.05 -2.542534   \n",
       "\n",
       "                t_alfa/2               H0        Interv. Conf  Teste H0  \n",
       "Teste bicaudal  2.119905  media1 = media2  (-5.5013, -0.4987)  rejeitar  "
      ]
     },
     "execution_count": 12,
     "metadata": {},
     "output_type": "execute_result"
    }
   ],
   "source": [
    "t_teste= ( m1-m2 ) / ( (var/n1 + var/n2)**0.5 )\n",
    "rv= t_student(n1+n2-2)\n",
    "if(cauda=='b'): \n",
    "    p= 2* rv.sf(abs(t_teste))\n",
    "    t_alfa= rv.isf(alfa/2)\n",
    "    margem_err= abs(rv.ppf(alfa/2) * (var/n1 + var/n2)**0.5)\n",
    "    intervalo_confianca= (round(m1-m2 -margem_err,4), round(m1-m2 +margem_err,4))\n",
    "    d= {'var':[var], 'vlr_p':[p],\n",
    "        'Nivel de Significância':[alfa],'t_teste':[t_teste], 't_alfa/2':[t_alfa],\n",
    "        'H0':[l_teste[0]], 'Interv. Conf':[intervalo_confianca],'Teste H0':[Rej(p,alfa)]}\n",
    "elif(cauda=='i'):  \n",
    "    p= rv.cdf(t_teste)\n",
    "    t_alfa= rv.ppf(alfa)                    # ppf inverse cdf\n",
    "    d= {'var':[var], 'vlr_p':[p], \n",
    "        'Nivel de Significância':[alfa],'t_teste':[t_teste], 't_alfa':[z_alfa],\n",
    "        'H0':[l_teste[0]], 'Teste H0':[Rej(p,alfa)]}\n",
    "elif(cauda=='s'): \n",
    "    p= rv.sf(t_teste)\n",
    "    t_alfa = rv.isf(alfa)\n",
    "    d= {'var':[var], 'vlr_p':[p],\n",
    "        'Nivel de Significância':[alfa],'t_teste':[t_teste], 't_alfa':[t_alfa],\n",
    "        'H0':[l_teste[0]], 'Teste H0':[Rej(p,alfa)]}\n",
    "else:\n",
    "    p=0\n",
    "    t_alfa= 0\n",
    "    d= {'vlr_p':[p],'Nivel de Significância':[alfa],'t_teste':[t_teste], 't_alfa':[t_alfa], \n",
    "        'H0':[l_teste[0]], 'Teste H0':['Indefinido']}\n",
    "pd.DataFrame(d, index=[d_cauda.get(cauda)]) "
   ]
  },
  {
   "cell_type": "markdown",
   "metadata": {},
   "source": [
    "### Teste bicaudal com intervalo de confiança:\n",
    "- ic contém 0: m1=m2\n",
    "- ic não contém0: m1 <> m2 com 1-alfa de confiança\n",
    "- limites do ic negativos: m1 < m2\n",
    "- limites do ic positivos: m1 > m2"
   ]
  },
  {
   "cell_type": "markdown",
   "metadata": {},
   "source": [
    "<a id='2mi_caso2'></a>\n",
    "## Comparar 2 médias de populações com var1 <> var2 (Heterocedásticas)"
   ]
  },
  {
   "cell_type": "code",
   "execution_count": 46,
   "metadata": {},
   "outputs": [
    {
     "data": {
      "text/html": [
       "<div>\n",
       "<style scoped>\n",
       "    .dataframe tbody tr th:only-of-type {\n",
       "        vertical-align: middle;\n",
       "    }\n",
       "\n",
       "    .dataframe tbody tr th {\n",
       "        vertical-align: top;\n",
       "    }\n",
       "\n",
       "    .dataframe thead th {\n",
       "        text-align: right;\n",
       "    }\n",
       "</style>\n",
       "<table border=\"1\" class=\"dataframe\">\n",
       "  <thead>\n",
       "    <tr style=\"text-align: right;\">\n",
       "      <th></th>\n",
       "      <th>H0</th>\n",
       "      <th>Ha</th>\n",
       "      <th>Tipo</th>\n",
       "      <th>m1</th>\n",
       "      <th>n1</th>\n",
       "      <th>m2</th>\n",
       "      <th>n2</th>\n",
       "    </tr>\n",
       "  </thead>\n",
       "  <tbody>\n",
       "    <tr>\n",
       "      <th>Teste</th>\n",
       "      <td>media1 = media2</td>\n",
       "      <td>media1 &lt;&gt; media2</td>\n",
       "      <td>Teste bicaudal</td>\n",
       "      <td>227</td>\n",
       "      <td>9</td>\n",
       "      <td>449.3333</td>\n",
       "      <td>9</td>\n",
       "    </tr>\n",
       "  </tbody>\n",
       "</table>\n",
       "</div>"
      ],
      "text/plain": [
       "                    H0                Ha            Tipo   m1  n1        m2  \\\n",
       "Teste  media1 = media2  media1 <> media2  Teste bicaudal  227   9  449.3333   \n",
       "\n",
       "       n2  \n",
       "Teste   9  "
      ]
     },
     "execution_count": 46,
     "metadata": {},
     "output_type": "execute_result"
    }
   ],
   "source": [
    "# nr de elementos e variância definidas na célula de teste das variâncias\n",
    "m1= 227                            # média da amostra da população 1\n",
    "m2= 449.3333                            # média da amostra da população 2\n",
    "cauda='b'\n",
    "alfa= 0.05\n",
    "## rodar a célula\n",
    "#var= ( (n1-1)*var1 + (n2-1)*var2 ) / ( n1-1 + n2-1 )\n",
    "l_teste= Tp_testeM(cauda)   \n",
    "d={'H0':[l_teste[0]], 'Ha':[l_teste[1]],'Tipo':[l_teste[2]], 'm1':[m1], 'n1':[n1], 'm2':[m2], 'n2':[n2]}\n",
    "pd.DataFrame(d, index=['Teste'])"
   ]
  },
  {
   "cell_type": "code",
   "execution_count": 47,
   "metadata": {},
   "outputs": [
    {
     "data": {
      "text/html": [
       "<div>\n",
       "<style scoped>\n",
       "    .dataframe tbody tr th:only-of-type {\n",
       "        vertical-align: middle;\n",
       "    }\n",
       "\n",
       "    .dataframe tbody tr th {\n",
       "        vertical-align: top;\n",
       "    }\n",
       "\n",
       "    .dataframe thead th {\n",
       "        text-align: right;\n",
       "    }\n",
       "</style>\n",
       "<table border=\"1\" class=\"dataframe\">\n",
       "  <thead>\n",
       "    <tr style=\"text-align: right;\">\n",
       "      <th></th>\n",
       "      <th>var</th>\n",
       "      <th>vlr_p</th>\n",
       "      <th>Nivel de Significância</th>\n",
       "      <th>t_teste</th>\n",
       "      <th>t_alfa/2</th>\n",
       "      <th>H0</th>\n",
       "      <th>Interv. Conf</th>\n",
       "      <th>Teste H0</th>\n",
       "    </tr>\n",
       "  </thead>\n",
       "  <tbody>\n",
       "    <tr>\n",
       "      <th>Teste bicaudal</th>\n",
       "      <td>0.425</td>\n",
       "      <td>0.000002</td>\n",
       "      <td>0.05</td>\n",
       "      <td>-12.447746</td>\n",
       "      <td>2.306004</td>\n",
       "      <td>media1 = media2</td>\n",
       "      <td>(-263.5216, -181.145)</td>\n",
       "      <td>rejeitar</td>\n",
       "    </tr>\n",
       "  </tbody>\n",
       "</table>\n",
       "</div>"
      ],
      "text/plain": [
       "                  var     vlr_p  Nivel de Significância    t_teste  t_alfa/2  \\\n",
       "Teste bicaudal  0.425  0.000002                    0.05 -12.447746  2.306004   \n",
       "\n",
       "                             H0           Interv. Conf  Teste H0  \n",
       "Teste bicaudal  media1 = media2  (-263.5216, -181.145)  rejeitar  "
      ]
     },
     "execution_count": 47,
     "metadata": {},
     "output_type": "execute_result"
    }
   ],
   "source": [
    "t_teste= ( m1-m2 ) / ( (var1/n1 + var2/n2)**0.5 )\n",
    "rv= t_student(min(n1-1, n2-1))\n",
    "if(cauda=='b'): \n",
    "    p= 2* rv.sf(abs(t_teste))\n",
    "    t_alfa= rv.isf(alfa/2)\n",
    "    margem_err= abs(rv.ppf(alfa/2) * (var1/n1 + var2/n2)**0.5)\n",
    "    intervalo_confianca= (round(m1-m2 -margem_err,4), round(m1-m2 +margem_err,4))\n",
    "    d= {'var':[var], 'vlr_p':[p],\n",
    "        'Nivel de Significância':[alfa],'t_teste':[t_teste], 't_alfa/2':[t_alfa],\n",
    "        'H0':[l_teste[0]], 'Interv. Conf':[intervalo_confianca],'Teste H0':[Rej(p,alfa)]}\n",
    "elif(cauda=='i'):  \n",
    "    p= rv.cdf(t_teste)\n",
    "    t_alfa= rv.ppf(alfa)                    # ppf inverse cdf\n",
    "    d= {'var':[var], 'vlr_p':[p], \n",
    "        'Nivel de Significância':[alfa],'t_teste':[t_teste], 't_alfa':[z_alfa],\n",
    "        'H0':[l_teste[0]], 'Teste H0':[Rej(p,alfa)]}\n",
    "elif(cauda=='s'): \n",
    "    p= rv.sf(t_teste)\n",
    "    t_alfa = rv.isf(alfa)\n",
    "    d= {'var':[var], 'vlr_p':[p],\n",
    "        'Nivel de Significância':[alfa],'t_teste':[t_teste], 't_alfa':[t_alfa],\n",
    "        'H0':[l_teste[0]], 'Teste H0':[Rej(p,alfa)]}\n",
    "else:\n",
    "    p=0\n",
    "    t_alfa= 0\n",
    "    d= {'vlr_p':[p],'Nivel de Significância':[alfa],'t_teste':[t_teste], 't_alfa':[t_alfa], \n",
    "        'H0':[l_teste[0]], 'Teste H0':['Indefinido']}\n",
    "pd.DataFrame(d, index=[d_cauda.get(cauda)]) "
   ]
  },
  {
   "cell_type": "markdown",
   "metadata": {},
   "source": [
    "### Teste bicaudal com intervalo de confiança:\n",
    "- ic contém 0: m1=m2\n",
    "- ic não contém0: m1 <> m2 com 1-alfa de confiança\n",
    "- limites do ic negativos: m1 < m2\n",
    "- limites do ic positivos: m1 > m2"
   ]
  },
  {
   "cell_type": "code",
   "execution_count": null,
   "metadata": {},
   "outputs": [],
   "source": []
  },
  {
   "cell_type": "markdown",
   "metadata": {},
   "source": [
    "<a id='2p'></a>\n",
    "## Teste Z para 2 proporções"
   ]
  },
  {
   "cell_type": "code",
   "execution_count": 13,
   "metadata": {},
   "outputs": [],
   "source": [
    "d_cauda={'i':'Teste de cauda inferior', 's': 'Teste de cauda superior', 'b':'Teste bicaudal'}\n",
    "def Tp_testep(cauda, p1, p2):\n",
    "    if(cauda=='i'):    \n",
    "        tp_teste=d_cauda.get(cauda)\n",
    "        H0= 'p1 >= p2'\n",
    "        Ha= 'p1 < p2'\n",
    "    elif(cauda=='s'):  \n",
    "        tp_teste=d_cauda.get(cauda)\n",
    "        H0= 'p1 <= p2'\n",
    "        Ha= 'p1 > p2'\n",
    "    elif(cauda== 'b'): \n",
    "        tp_teste=d_cauda.get(cauda)\n",
    "        H0= 'p1 = p2'\n",
    "        Ha= 'p1 <> p2'\n",
    "    else: tp_teste='indefinido'\n",
    "    l_teste= [H0,Ha,tp_teste]\n",
    "    return l_teste"
   ]
  },
  {
   "cell_type": "code",
   "execution_count": 16,
   "metadata": {},
   "outputs": [
    {
     "data": {
      "text/html": [
       "<div>\n",
       "<style scoped>\n",
       "    .dataframe tbody tr th:only-of-type {\n",
       "        vertical-align: middle;\n",
       "    }\n",
       "\n",
       "    .dataframe tbody tr th {\n",
       "        vertical-align: top;\n",
       "    }\n",
       "\n",
       "    .dataframe thead th {\n",
       "        text-align: right;\n",
       "    }\n",
       "</style>\n",
       "<table border=\"1\" class=\"dataframe\">\n",
       "  <thead>\n",
       "    <tr style=\"text-align: right;\">\n",
       "      <th></th>\n",
       "      <th>H0</th>\n",
       "      <th>Ha</th>\n",
       "      <th>Tipo</th>\n",
       "      <th>p1</th>\n",
       "      <th>n1</th>\n",
       "      <th>p2</th>\n",
       "      <th>n2</th>\n",
       "      <th>p</th>\n",
       "      <th>n1p</th>\n",
       "      <th>n1(1-p)</th>\n",
       "      <th>n2p</th>\n",
       "      <th>n2(1-p)</th>\n",
       "    </tr>\n",
       "  </thead>\n",
       "  <tbody>\n",
       "    <tr>\n",
       "      <th>Teste</th>\n",
       "      <td>p1 = p2</td>\n",
       "      <td>p1 &lt;&gt; p2</td>\n",
       "      <td>Teste bicaudal</td>\n",
       "      <td>0.242857</td>\n",
       "      <td>140</td>\n",
       "      <td>0.230435</td>\n",
       "      <td>230</td>\n",
       "      <td>0.235135</td>\n",
       "      <td>32.918919</td>\n",
       "      <td>107.081081</td>\n",
       "      <td>54.081081</td>\n",
       "      <td>175.918919</td>\n",
       "    </tr>\n",
       "  </tbody>\n",
       "</table>\n",
       "</div>"
      ],
      "text/plain": [
       "            H0        Ha            Tipo        p1   n1        p2   n2  \\\n",
       "Teste  p1 = p2  p1 <> p2  Teste bicaudal  0.242857  140  0.230435  230   \n",
       "\n",
       "              p        n1p     n1(1-p)        n2p     n2(1-p)  \n",
       "Teste  0.235135  32.918919  107.081081  54.081081  175.918919  "
      ]
     },
     "execution_count": 16,
     "metadata": {},
     "output_type": "execute_result"
    }
   ],
   "source": [
    "n1= 140\n",
    "p1= 34/n1\n",
    "n2= 230\n",
    "p2= 53/n2\n",
    "cauda= 'b'\n",
    "alfa= 0.1\n",
    "## rodar a célula\n",
    "p= (n1*p1 + n2*p2) / (n1 + n2)\n",
    "l_teste= Tp_testep(cauda, p1, p2)   \n",
    "d={'H0':[l_teste[0]], 'Ha':[l_teste[1]],'Tipo':[l_teste[2]], 'p1':[p1], 'n1':[n1], 'p2':[p2], 'n2':[n2], 'p':[p], \n",
    "   'n1p':[n1*p], 'n1(1-p)':n1*(1-p), 'n2p':[n2*p], 'n2(1-p)':n2*(1-p)}\n",
    "# np e n(1-p) >=5                                   # distribuição amostral de p pode ser aproximada a uma distribuição normal\n",
    "pd.DataFrame(d, index=['Teste'])"
   ]
  },
  {
   "cell_type": "code",
   "execution_count": 17,
   "metadata": {},
   "outputs": [
    {
     "data": {
      "text/html": [
       "<div>\n",
       "<style scoped>\n",
       "    .dataframe tbody tr th:only-of-type {\n",
       "        vertical-align: middle;\n",
       "    }\n",
       "\n",
       "    .dataframe tbody tr th {\n",
       "        vertical-align: top;\n",
       "    }\n",
       "\n",
       "    .dataframe thead th {\n",
       "        text-align: right;\n",
       "    }\n",
       "</style>\n",
       "<table border=\"1\" class=\"dataframe\">\n",
       "  <thead>\n",
       "    <tr style=\"text-align: right;\">\n",
       "      <th></th>\n",
       "      <th>p1 Amostra</th>\n",
       "      <th>Tam1 Amostra</th>\n",
       "      <th>p2 Amostra</th>\n",
       "      <th>Tam2 Amostra</th>\n",
       "      <th>vlr_p</th>\n",
       "      <th>Nivel de Significância</th>\n",
       "      <th>z_teste</th>\n",
       "      <th>z_alfa/2</th>\n",
       "      <th>H0</th>\n",
       "      <th>Interv. Conf.</th>\n",
       "      <th>Teste H0</th>\n",
       "    </tr>\n",
       "  </thead>\n",
       "  <tbody>\n",
       "    <tr>\n",
       "      <th>Teste bicaudal</th>\n",
       "      <td>0.242857</td>\n",
       "      <td>140</td>\n",
       "      <td>0.230435</td>\n",
       "      <td>230</td>\n",
       "      <td>0.784651</td>\n",
       "      <td>0.1</td>\n",
       "      <td>0.273263</td>\n",
       "      <td>1.644854</td>\n",
       "      <td>p1 = p2</td>\n",
       "      <td>(-0.0624, 0.0872)</td>\n",
       "      <td>não rejeitar</td>\n",
       "    </tr>\n",
       "  </tbody>\n",
       "</table>\n",
       "</div>"
      ],
      "text/plain": [
       "                p1 Amostra  Tam1 Amostra  p2 Amostra  Tam2 Amostra     vlr_p  \\\n",
       "Teste bicaudal    0.242857           140    0.230435           230  0.784651   \n",
       "\n",
       "                Nivel de Significância   z_teste  z_alfa/2       H0  \\\n",
       "Teste bicaudal                     0.1  0.273263  1.644854  p1 = p2   \n",
       "\n",
       "                    Interv. Conf.      Teste H0  \n",
       "Teste bicaudal  (-0.0624, 0.0872)  não rejeitar  "
      ]
     },
     "execution_count": 17,
     "metadata": {},
     "output_type": "execute_result"
    }
   ],
   "source": [
    "z_teste= (p1 - p2) / ( (p*(1-p)/n1 + p*(1-p)/n2)**0.5 )\n",
    "rv= scipy.stats.norm(0,1)\n",
    "if(cauda=='b'): \n",
    "    vlr_p= 2* rv.sf(abs(z_teste))\n",
    "    z_alfa= rv.isf(alfa/2)\n",
    "    margem_err= z_alfa * ( ( p*(1-p)/n1 + p*(1-p)/n2 )**0.5 )\n",
    "    intervalo_confianca= (round(p1-p2 -margem_err,4), round(p1-p2 +margem_err,4))\n",
    "    d= {'p1 Amostra':[p1], 'Tam1 Amostra':[n1],'p2 Amostra':[p2], 'Tam2 Amostra':[n2], 'vlr_p':[vlr_p],\n",
    "        'Nivel de Significância':[alfa],'z_teste':[abs(z_teste)], 'z_alfa/2':[z_alfa],\n",
    "        'H0':[l_teste[0]], 'Interv. Conf.':[intervalo_confianca], 'Teste H0':[rej0(vlr_p,alfa)]}\n",
    "elif(cauda=='i'):  \n",
    "    vlr_p= rv.cdf(z_teste)\n",
    "    z_alfa= rv.ppf(alfa)                    # ppf inverse cdf\n",
    "    d= {'p Amostra':[p], 'vlr_p':[vlr_p], \n",
    "        'Nivel de Significância':[alfa],'z_teste':[z_teste], 'z_alfa':[z_alfa],\n",
    "        'H0':[l_teste[0]], 'Teste H0':[rej0(vlr_p,alfa)]}\n",
    "elif(cauda=='s'): \n",
    "    vlr_p= rv.sf(z_teste)\n",
    "    z_alfa = rv.isf(alfa)\n",
    "    d= {'p Amostra':[p], 'vlr_p':[vlr_p],\n",
    "        'Nivel de Significância':[alfa],'z_teste':[z_teste], 'z_alfa':[z_alfa],\n",
    "        'H0':[l_teste[0]], 'Teste H0':[rej0(vlr_p,alfa)]}\n",
    "else:\n",
    "    vlr_p=0\n",
    "    z_alfa= 0\n",
    "    d= {'vlr_p':[vlr_p],'Nivel de Significância':[alfa],'z_teste':[z_teste], 'z_alfa':[z_alfa], \n",
    "        'H0':[l_teste[0]], 'Teste H0':['Indefinido']}\n",
    "pd.DataFrame(d, index=[d_cauda.get(cauda)])"
   ]
  },
  {
   "cell_type": "markdown",
   "metadata": {},
   "source": [
    "### Teste bicaudal com intervalo de confiança:\n",
    "- ic contém 0: p1=p2\n",
    "- ic não contém0: p1 <> p2 com 1-alfa de confiança\n",
    "- limites do ic negativos: p1 < p2\n",
    "- limites do ic positivos: p1 > p2"
   ]
  },
  {
   "cell_type": "code",
   "execution_count": 18,
   "metadata": {},
   "outputs": [],
   "source": [
    "# add dif para ver o ic"
   ]
  },
  {
   "cell_type": "code",
   "execution_count": null,
   "metadata": {},
   "outputs": [],
   "source": []
  }
 ],
 "metadata": {
  "kernelspec": {
   "display_name": "Python 3",
   "language": "python",
   "name": "python3"
  },
  "language_info": {
   "codemirror_mode": {
    "name": "ipython",
    "version": 3
   },
   "file_extension": ".py",
   "mimetype": "text/x-python",
   "name": "python",
   "nbconvert_exporter": "python",
   "pygments_lexer": "ipython3",
   "version": "3.7.4"
  }
 },
 "nbformat": 4,
 "nbformat_minor": 2
}
