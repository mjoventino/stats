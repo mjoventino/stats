{
 "cells": [
  {
   "cell_type": "markdown",
   "metadata": {},
   "source": [
    "# Teste de Hipóteses\n",
    "## Erro Tp1: rejeitar H0 - estando H0 certo - aceitar Ha\n",
    "## Erro Tp2: aceitar H0 - estando H0 errrado\n",
    "- Nivel de Significância: probabidade (área sob a curva de densidade)do erro Tp\n",
    "- estatística de teste: estatística amostral para decidir sobre rejeição ou não de H0\n",
    "- região crítica: conjunto dos valores da estatística de teste que rejeitam H0\n",
    "- valor crítico: separa a região crítica da região que não rejeita H0\n",
    "---------------"
   ]
  },
  {
   "cell_type": "code",
   "execution_count": 1,
   "metadata": {},
   "outputs": [],
   "source": [
    "from scipy.stats import norm\n",
    "import scipy.stats\n",
    "from scipy.stats import t as t_student\n",
    "import pandas as pd\n",
    "import matplotlib.pyplot as plt\n",
    "import numpy as np\n",
    "import pandas as pd\n",
    "import math"
   ]
  },
  {
   "cell_type": "code",
   "execution_count": 2,
   "metadata": {},
   "outputs": [],
   "source": [
    "def rej(p, alfa):\n",
    "    if (p<= alfa): r_teste= 'rejeitar'\n",
    "    else: r_teste= 'não rejeitar'\n",
    "    return r_teste \n",
    "d_cauda={'i':'Teste de cauda inferior', 's': 'Teste de cauda superior', 'b':'Teste bicaudal'} \n",
    "def Tp_teste(cauda, m_p):\n",
    "    if(cauda=='i'):    \n",
    "        tp_teste=d_cauda.get(cauda)\n",
    "        H0= 'media >= '+ str(m_p)\n",
    "        Ha= 'media < '+ str(m_p)\n",
    "    elif(cauda=='s'):  \n",
    "        tp_teste=d_cauda.get(cauda)\n",
    "        H0= 'media <= '+ str(m_p)\n",
    "        Ha= 'media > '+ str(m_p)\n",
    "    elif(cauda== 'b'): \n",
    "        tp_teste=d_cauda.get(cauda)\n",
    "        H0= 'media = '+ str(m_p)\n",
    "        Ha= 'media <> '+ str(m_p)\n",
    "    else: tp_teste='indefinido'\n",
    "    l_teste= [H0,Ha,tp_teste]\n",
    "    return l_teste"
   ]
  },
  {
   "cell_type": "code",
   "execution_count": 3,
   "metadata": {},
   "outputs": [
    {
     "data": {
      "text/html": [
       "<div>\n",
       "<style scoped>\n",
       "    .dataframe tbody tr th:only-of-type {\n",
       "        vertical-align: middle;\n",
       "    }\n",
       "\n",
       "    .dataframe tbody tr th {\n",
       "        vertical-align: top;\n",
       "    }\n",
       "\n",
       "    .dataframe thead th {\n",
       "        text-align: right;\n",
       "    }\n",
       "</style>\n",
       "<table border=\"1\" class=\"dataframe\">\n",
       "  <thead>\n",
       "    <tr style=\"text-align: right;\">\n",
       "      <th></th>\n",
       "      <th>Teste de cauda inferior</th>\n",
       "      <th>Teste de cauda superior</th>\n",
       "      <th>Teste bicaudal</th>\n",
       "    </tr>\n",
       "  </thead>\n",
       "  <tbody>\n",
       "    <tr>\n",
       "      <th>Hip. alternativa</th>\n",
       "      <td>Ha: m &lt; m_p</td>\n",
       "      <td>Ha: m &gt; m_p</td>\n",
       "      <td>Ha: m &lt;&gt; m_p</td>\n",
       "    </tr>\n",
       "    <tr>\n",
       "      <th>Rejeição valor crítico</th>\n",
       "      <td>z_teste &lt;= z_alfa</td>\n",
       "      <td>z_teste &gt;= z_alfa</td>\n",
       "      <td>z_teste &lt;= z_alfa/2</td>\n",
       "    </tr>\n",
       "    <tr>\n",
       "      <th>Rejeição valor p</th>\n",
       "      <td>p &lt;= alfa</td>\n",
       "      <td>p &lt;= alfa</td>\n",
       "      <td>p &lt;= alfa</td>\n",
       "    </tr>\n",
       "    <tr>\n",
       "      <th>indicador na função</th>\n",
       "      <td>i</td>\n",
       "      <td>s</td>\n",
       "      <td>b</td>\n",
       "    </tr>\n",
       "  </tbody>\n",
       "</table>\n",
       "</div>"
      ],
      "text/plain": [
       "                       Teste de cauda inferior Teste de cauda superior  \\\n",
       "Hip. alternativa                   Ha: m < m_p             Ha: m > m_p   \n",
       "Rejeição valor crítico       z_teste <= z_alfa       z_teste >= z_alfa   \n",
       "Rejeição valor p                     p <= alfa               p <= alfa   \n",
       "indicador na função                          i                       s   \n",
       "\n",
       "                             Teste bicaudal  \n",
       "Hip. alternativa               Ha: m <> m_p  \n",
       "Rejeição valor crítico  z_teste <= z_alfa/2  \n",
       "Rejeição valor p                  p <= alfa  \n",
       "indicador na função                       b  "
      ]
     },
     "execution_count": 3,
     "metadata": {},
     "output_type": "execute_result"
    }
   ],
   "source": [
    "d= {'Teste de cauda inferior':['Ha: m < m_p','z_teste <= z_alfa','p <= alfa','i'],\n",
    "    'Teste de cauda superior': ['Ha: m > m_p', 'z_teste >= z_alfa', 'p <= alfa','s'],\n",
    "    'Teste bicaudal':['Ha: m <> m_p', 'z_teste <= z_alfa/2', 'p <= alfa','b']}\n",
    "c_ind= ['Hip. alternativa', 'Rejeição valor crítico', 'Rejeição valor p', 'indicador na função']\n",
    "pd.DataFrame(d,index=c_ind)"
   ]
  },
  {
   "cell_type": "markdown",
   "metadata": {},
   "source": [
    "## 1. std população conhecido\n",
    "## 2. [std população desconhecido](#std_d)\n",
    "## 3. [Proporção Populacional](#p)"
   ]
  },
  {
   "cell_type": "markdown",
   "metadata": {},
   "source": [
    "## std população conhecido"
   ]
  },
  {
   "cell_type": "code",
   "execution_count": 12,
   "metadata": {},
   "outputs": [],
   "source": [
    "def z_teste1(m, m_p, std_p, n): \n",
    "    z_teste1= (m -m_p)/ ( std_p / n**0.5 )\n",
    "    return float(z_teste1)\n",
    "def x_Erro2(m_p, std_p, z_alfa, n):\n",
    "    x2= m_p + z_alfa * std_p / n**0.5\n",
    "    return x2"
   ]
  },
  {
   "cell_type": "code",
   "execution_count": 16,
   "metadata": {},
   "outputs": [
    {
     "data": {
      "text/html": [
       "<div>\n",
       "<style scoped>\n",
       "    .dataframe tbody tr th:only-of-type {\n",
       "        vertical-align: middle;\n",
       "    }\n",
       "\n",
       "    .dataframe tbody tr th {\n",
       "        vertical-align: top;\n",
       "    }\n",
       "\n",
       "    .dataframe thead th {\n",
       "        text-align: right;\n",
       "    }\n",
       "</style>\n",
       "<table border=\"1\" class=\"dataframe\">\n",
       "  <thead>\n",
       "    <tr style=\"text-align: right;\">\n",
       "      <th></th>\n",
       "      <th>H0</th>\n",
       "      <th>Ha</th>\n",
       "      <th>Tipo</th>\n",
       "    </tr>\n",
       "  </thead>\n",
       "  <tbody>\n",
       "    <tr>\n",
       "      <th>Teste</th>\n",
       "      <td>media &gt;= 53</td>\n",
       "      <td>media &lt; 53</td>\n",
       "      <td>Teste de cauda inferior</td>\n",
       "    </tr>\n",
       "  </tbody>\n",
       "</table>\n",
       "</div>"
      ],
      "text/plain": [
       "                H0          Ha                     Tipo\n",
       "Teste  media >= 53  media < 53  Teste de cauda inferior"
      ]
     },
     "execution_count": 16,
     "metadata": {},
     "output_type": "execute_result"
    }
   ],
   "source": [
    "# Teste População:\n",
    "m_p= 53                  # média da população a ser testada\n",
    "std_p= 14             # desvio padrão da população\n",
    "# Amostra:\n",
    "m= 45                 # média da amostra\n",
    "n= 30                   # tamanho da amostra\n",
    "alfa= 0.01              # nível de significância\n",
    "cauda= 'i'              # Teste de cauda i=inferior, s=superior, b=bicaudal\n",
    "## rodar a célula\n",
    "l_teste= Tp_teste(cauda,m_p)    \n",
    "d={'H0':[l_teste[0]], 'Ha':[l_teste[1]],'Tipo':[l_teste[2]]}\n",
    "pd.DataFrame(d, index=['Teste'])"
   ]
  },
  {
   "cell_type": "code",
   "execution_count": null,
   "metadata": {},
   "outputs": [],
   "source": []
  },
  {
   "cell_type": "code",
   "execution_count": 17,
   "metadata": {},
   "outputs": [
    {
     "data": {
      "text/html": [
       "<div>\n",
       "<style scoped>\n",
       "    .dataframe tbody tr th:only-of-type {\n",
       "        vertical-align: middle;\n",
       "    }\n",
       "\n",
       "    .dataframe tbody tr th {\n",
       "        vertical-align: top;\n",
       "    }\n",
       "\n",
       "    .dataframe thead th {\n",
       "        text-align: right;\n",
       "    }\n",
       "</style>\n",
       "<table border=\"1\" class=\"dataframe\">\n",
       "  <thead>\n",
       "    <tr style=\"text-align: right;\">\n",
       "      <th></th>\n",
       "      <th>Média Amostra</th>\n",
       "      <th>Tam Amostra</th>\n",
       "      <th>std_população</th>\n",
       "      <th>p</th>\n",
       "      <th>Nivel de Significância</th>\n",
       "      <th>z_teste</th>\n",
       "      <th>z_alfa</th>\n",
       "      <th>H0</th>\n",
       "      <th>Teste H0</th>\n",
       "    </tr>\n",
       "  </thead>\n",
       "  <tbody>\n",
       "    <tr>\n",
       "      <th>Teste de cauda inferior</th>\n",
       "      <td>45</td>\n",
       "      <td>30</td>\n",
       "      <td>14</td>\n",
       "      <td>0.000874</td>\n",
       "      <td>0.01</td>\n",
       "      <td>-3.129843</td>\n",
       "      <td>-2.326348</td>\n",
       "      <td>media &gt;= 53</td>\n",
       "      <td>rejeitar</td>\n",
       "    </tr>\n",
       "  </tbody>\n",
       "</table>\n",
       "</div>"
      ],
      "text/plain": [
       "                         Média Amostra  Tam Amostra  std_população         p  \\\n",
       "Teste de cauda inferior             45           30             14  0.000874   \n",
       "\n",
       "                         Nivel de Significância   z_teste    z_alfa  \\\n",
       "Teste de cauda inferior                    0.01 -3.129843 -2.326348   \n",
       "\n",
       "                                  H0  Teste H0  \n",
       "Teste de cauda inferior  media >= 53  rejeitar  "
      ]
     },
     "execution_count": 17,
     "metadata": {},
     "output_type": "execute_result"
    }
   ],
   "source": [
    "z_teste= z_teste1(m, m_p, std_p, n)\n",
    "rv= scipy.stats.norm(0,1)\n",
    "if(cauda=='b'): \n",
    "    p= 2* rv.sf(abs(z_teste))\n",
    "    z_alfa= rv.isf(alfa/2)\n",
    "    d= {'Média Amostra':[m], 'Tam Amostra':[n], 'std_população':[std_p], 'p':[p],\n",
    "        'Nivel de Significância':[alfa],'z_teste':[abs(z_teste)], 'z_alfa/2':[z_alfa],\n",
    "        'H0':[l_teste[0]], 'Teste H0':[rej(p,alfa)]}\n",
    "elif(cauda=='i'):  \n",
    "    p= rv.cdf(z_teste)\n",
    "    z_alfa= rv.ppf(alfa)                    # ppf inverse cdf\n",
    "    d= {'Média Amostra':[m], 'Tam Amostra':[n], 'std_população':[std_p], 'p':[p], \n",
    "        'Nivel de Significância':[alfa],'z_teste':[z_teste], 'z_alfa':[z_alfa],\n",
    "        'H0':[l_teste[0]], 'Teste H0':[rej(p,alfa)]}\n",
    "elif(cauda=='s'): \n",
    "    p= rv.sf(z_teste)\n",
    "    z_alfa = rv.isf(alfa)\n",
    "    d= {'Média Amostra':[m], 'Tam Amostra':[n], 'std_população':[std_p], 'p':[p],\n",
    "        'Nivel de Significância':[alfa],'z_teste':[z_teste], 'z_alfa':[z_alfa],\n",
    "        'H0':[l_teste[0]], 'Teste H0':[rej(p,alfa)]}\n",
    "else:\n",
    "    p=0\n",
    "    z_alfa= 0\n",
    "    d= {'p':[p],'Nivel de Significância':[alfa],'z_teste':[z_teste], 'z_alfa':[z_alfa], \n",
    "        'H0':[l_teste[0]], 'Teste H0':['Indefinido']}\n",
    "pd.DataFrame(d, index=[d_cauda.get(cauda)])   "
   ]
  },
  {
   "cell_type": "code",
   "execution_count": 110,
   "metadata": {},
   "outputs": [
    {
     "data": {
      "text/plain": [
       "Text(0.5, 0, 'não rejeitar H0')"
      ]
     },
     "execution_count": 110,
     "metadata": {},
     "output_type": "execute_result"
    },
    {
     "data": {
      "image/png": "[encoded data removed]",
      "text/plain": [
       "<Figure size 432x288 with 4 Axes>"
      ]
     },
     "metadata": {
      "needs_background": "light"
     },
     "output_type": "display_data"
    }
   ],
   "source": [
    "lim_g= max(abs(z_teste),abs(z_alfa))\n",
    "x= np.linspace(-lim_g*1.3,lim_g*1.3,3000)       # gera um intervalo no eixo x em toda a distribuição\n",
    "y= rv.pdf(x)\n",
    "if(cauda=='i'):  \n",
    "    x1= np.linspace(-lim_g*1.3, z_teste, 3000)       # intervalor x entre limite inferior e z_teste\n",
    "    y1= rv.pdf(x1)\n",
    "    x2= np.linspace(-lim_g*1.3, z_alfa,3000)       # gera um intervalo no eixo x na região crítica\n",
    "    y2= rv.pdf(x2)\n",
    "    fig, a= plt.subplots(2,2,sharex='all')\n",
    "if(cauda=='s'):  \n",
    "    x1= np.linspace(z_teste, lim_g*1.3,3000)       # intervalor x entre z_teste e limite superior\n",
    "    y1= rv.pdf(x1)\n",
    "    x2= np.linspace(z_alfa,lim_g*1.3,3000)       # gera um intervalo no eixo x na região crítica\n",
    "    y2= rv.pdf(x2)\n",
    "    fig, a= plt.subplots(2,2,sharex='all')\n",
    "if(cauda=='b'):  \n",
    "    x1= np.linspace(z_teste, -z_teste,3000)       # intervalor x entre z_teste e limite superior\n",
    "    y1= rv.pdf(x1)\n",
    "    x2= np.linspace(z_alfa,lim_g*1.3,3000)       # gera um intervalo no eixo x na região crítica\n",
    "    y2= rv.pdf(x2)\n",
    "    fig, a= plt.subplots(2,2,sharex='all')\n",
    "    a[1][0].fill_between(-x2,rv.pdf(-x2),color='red')                    # área região  critica inferior\n",
    "    a[0][1].plot([-z_alfa, -z_alfa], [0, rv.pdf(z_alfa)], color= 'red') # marcação reg. critica inferior\n",
    "a[0][0].fill_between(x1,y1, color='blue')\n",
    "a[0][0].set_title('Z_teste')\n",
    "a[1][0].fill_between(x2,y2,color='red')\n",
    "a[1][0].set_xlabel('Região Crítica')\n",
    "a[0][1].plot(x,y)\n",
    "a[0][1].plot([z_teste,z_teste],[0,rv.pdf(z_teste)], color='blue')\n",
    "a[0][1].plot([z_alfa, z_alfa], [0, rv.pdf(z_alfa)], color= 'red')\n",
    "a[0][1].set_title('H0: '+l_teste[0])\n",
    "a[0][1].set_xlabel('Ha: '+l_teste[1])\n",
    "a[1][1].set_xlabel(rej(p,alfa) + ' H0')"
   ]
  },
  {
   "cell_type": "code",
   "execution_count": 103,
   "metadata": {},
   "outputs": [
    {
     "data": {
      "text/html": [
       "<div>\n",
       "<style scoped>\n",
       "    .dataframe tbody tr th:only-of-type {\n",
       "        vertical-align: middle;\n",
       "    }\n",
       "\n",
       "    .dataframe tbody tr th {\n",
       "        vertical-align: top;\n",
       "    }\n",
       "\n",
       "    .dataframe thead th {\n",
       "        text-align: right;\n",
       "    }\n",
       "</style>\n",
       "<table border=\"1\" class=\"dataframe\">\n",
       "  <thead>\n",
       "    <tr style=\"text-align: right;\">\n",
       "      <th></th>\n",
       "      <th>H0</th>\n",
       "      <th>Intev. Confiança</th>\n",
       "      <th>Teste H0</th>\n",
       "    </tr>\n",
       "  </thead>\n",
       "  <tbody>\n",
       "    <tr>\n",
       "      <th>somente para teste bicaudal com pop. infinita</th>\n",
       "      <td>media = 12.3</td>\n",
       "      <td>(10.18084168122695, 12.81915831877305)</td>\n",
       "      <td>não rejeitar</td>\n",
       "    </tr>\n",
       "  </tbody>\n",
       "</table>\n",
       "</div>"
      ],
      "text/plain": [
       "                                                         H0  \\\n",
       "somente para teste bicaudal com pop. infinita  media = 12.3   \n",
       "\n",
       "                                                                     Intev. Confiança  \\\n",
       "somente para teste bicaudal com pop. infinita  (10.18084168122695, 12.81915831877305)   \n",
       "\n",
       "                                                   Teste H0  \n",
       "somente para teste bicaudal com pop. infinita  não rejeitar  "
      ]
     },
     "execution_count": 103,
     "metadata": {},
     "output_type": "execute_result"
    }
   ],
   "source": [
    "# erro_padrão_Media_amostra (std_p,  N  (populacao),  n= tamanho amostra)\n",
    "def std_m(std_p,n):                               # n/N < 0.05 ou populacao infinita\n",
    "    return float(std_p/n**0.5)\n",
    "def std_m_N(std_p,n,N):   \n",
    "    return float((N-n)/(N-1)*std_p/n**0.5)\n",
    "a_conf= 1- alfa\n",
    "e_m= std_m(std_p,n)    # n/N < 0.05\n",
    "x99= norm.interval(a_conf,m,e_m)             # calcula limites do intervalo com base no nivel de confiança\n",
    "d={'H0':[l_teste[0]], 'Intev. Confiança':[(x99[0],x99[1])] ,'Teste H0':[rej(p,alfa)]}\n",
    "pd.DataFrame(d, index=['somente para teste bicaudal com pop. infinita'])"
   ]
  },
  {
   "cell_type": "code",
   "execution_count": null,
   "metadata": {},
   "outputs": [],
   "source": []
  },
  {
   "cell_type": "markdown",
   "metadata": {},
   "source": [
    "<a id='std_d'></a>\n",
    "## std população desconhecido"
   ]
  },
  {
   "cell_type": "code",
   "execution_count": 23,
   "metadata": {},
   "outputs": [],
   "source": [
    "def t_Teste(m, m_p, std, n): \n",
    "    t_teste= (m -m_p)/ ( std / n**0.5 )\n",
    "    return float(t_teste)"
   ]
  },
  {
   "cell_type": "code",
   "execution_count": 21,
   "metadata": {},
   "outputs": [
    {
     "data": {
      "text/html": [
       "<div>\n",
       "<style scoped>\n",
       "    .dataframe tbody tr th:only-of-type {\n",
       "        vertical-align: middle;\n",
       "    }\n",
       "\n",
       "    .dataframe tbody tr th {\n",
       "        vertical-align: top;\n",
       "    }\n",
       "\n",
       "    .dataframe thead th {\n",
       "        text-align: right;\n",
       "    }\n",
       "</style>\n",
       "<table border=\"1\" class=\"dataframe\">\n",
       "  <thead>\n",
       "    <tr style=\"text-align: right;\">\n",
       "      <th></th>\n",
       "      <th>H0</th>\n",
       "      <th>Ha</th>\n",
       "      <th>Tipo</th>\n",
       "    </tr>\n",
       "  </thead>\n",
       "  <tbody>\n",
       "    <tr>\n",
       "      <th>Teste</th>\n",
       "      <td>media &gt;= 2500</td>\n",
       "      <td>media &lt; 2500</td>\n",
       "      <td>Teste de cauda inferior</td>\n",
       "    </tr>\n",
       "  </tbody>\n",
       "</table>\n",
       "</div>"
      ],
      "text/plain": [
       "                  H0            Ha                     Tipo\n",
       "Teste  media >= 2500  media < 2500  Teste de cauda inferior"
      ]
     },
     "execution_count": 21,
     "metadata": {},
     "output_type": "execute_result"
    }
   ],
   "source": [
    "m_p= 2500                  # média da população a ser testada\n",
    "# Amostra:\n",
    "m= 2500.9                 # média da amostra\n",
    "std= 1008.4**0.5             # desvio padrão da amostra\n",
    "n= 12                   # tamanho da amostra\n",
    "alfa= 0.03              # nível de significância\n",
    "cauda= 'b'              # Teste de cauda i=inferior, s=superior, b=bicaudal\n",
    "## rodar a célula\n",
    "l_teste= Tp_teste(cauda,m_p)    \n",
    "d={'H0':[l_teste[0]], 'Ha':[l_teste[1]],'Tipo':[l_teste[2]]}\n",
    "pd.DataFrame(d, index=['Teste'])"
   ]
  },
  {
   "cell_type": "code",
   "execution_count": null,
   "metadata": {},
   "outputs": [],
   "source": []
  },
  {
   "cell_type": "code",
   "execution_count": 22,
   "metadata": {},
   "outputs": [
    {
     "data": {
      "text/html": [
       "<div>\n",
       "<style scoped>\n",
       "    .dataframe tbody tr th:only-of-type {\n",
       "        vertical-align: middle;\n",
       "    }\n",
       "\n",
       "    .dataframe tbody tr th {\n",
       "        vertical-align: top;\n",
       "    }\n",
       "\n",
       "    .dataframe thead th {\n",
       "        text-align: right;\n",
       "    }\n",
       "</style>\n",
       "<table border=\"1\" class=\"dataframe\">\n",
       "  <thead>\n",
       "    <tr style=\"text-align: right;\">\n",
       "      <th></th>\n",
       "      <th>Média Amostra</th>\n",
       "      <th>Tam Amostra</th>\n",
       "      <th>std_amostra</th>\n",
       "      <th>p</th>\n",
       "      <th>Nivel de Significância</th>\n",
       "      <th>t_teste</th>\n",
       "      <th>t_alfa</th>\n",
       "      <th>H0</th>\n",
       "      <th>Teste H0</th>\n",
       "    </tr>\n",
       "  </thead>\n",
       "  <tbody>\n",
       "    <tr>\n",
       "      <th>Teste de cauda inferior</th>\n",
       "      <td>2500.9</td>\n",
       "      <td>12</td>\n",
       "      <td>31.755315</td>\n",
       "      <td>0.538222</td>\n",
       "      <td>0.03</td>\n",
       "      <td>0.098179</td>\n",
       "      <td>-2.326348</td>\n",
       "      <td>media &gt;= 2500</td>\n",
       "      <td>não rejeitar</td>\n",
       "    </tr>\n",
       "  </tbody>\n",
       "</table>\n",
       "</div>"
      ],
      "text/plain": [
       "                         Média Amostra  Tam Amostra  std_amostra         p  \\\n",
       "Teste de cauda inferior         2500.9           12    31.755315  0.538222   \n",
       "\n",
       "                         Nivel de Significância   t_teste    t_alfa  \\\n",
       "Teste de cauda inferior                    0.03  0.098179 -2.326348   \n",
       "\n",
       "                                    H0      Teste H0  \n",
       "Teste de cauda inferior  media >= 2500  não rejeitar  "
      ]
     },
     "execution_count": 22,
     "metadata": {},
     "output_type": "execute_result"
    }
   ],
   "source": [
    "t_teste= t_Teste(m, m_p, std, n)\n",
    "rv= t_student(n-1)\n",
    "if(cauda=='b'): \n",
    "    p= 2* rv.sf(abs(t_teste))\n",
    "    t_alfa= rv.isf(alfa/2)\n",
    "    margem_err= abs(rv.ppf(alfa/2) * std / n**0.5)\n",
    "    intervalo_confianca= (round(m-margem_err,4), round(m+margem_err,4))\n",
    "    d= {'Média Amostra':[m], 'Tam Amostra':[n], 'std_amostra':[std], 'p':[p],\n",
    "        'Nivel de Significância':[alfa],'t_teste':[abs(t_teste)], 't_alfa/2':[t_alfa],\n",
    "        'H0':[l_teste[0]], 'Interv. Conf':[intervalo_confianca],'Teste H0':[rej(p,alfa)]}\n",
    "elif(cauda=='i'):  \n",
    "    p= rv.cdf(t_teste)\n",
    "    t_alfa= rv.ppf(alfa)                    # ppf inverse cdf\n",
    "    d= {'Média Amostra':[m], 'Tam Amostra':[n], 'std_amostra':[std], 'p':[p], \n",
    "        'Nivel de Significância':[alfa],'t_teste':[t_teste], 't_alfa':[z_alfa],\n",
    "        'H0':[l_teste[0]], 'Teste H0':[rej(p,alfa)]}\n",
    "elif(cauda=='s'): \n",
    "    p= rv.sf(t_teste)\n",
    "    t_alfa = rv.isf(alfa)\n",
    "    d= {'Média Amostra':[m], 'Tam Amostra':[n], 'std_amostra':[std], 'p':[p],\n",
    "        'Nivel de Significância':[alfa],'t_teste':[t_teste], 't_alfa':[t_alfa],\n",
    "        'H0':[l_teste[0]], 'Teste H0':[rej(p,alfa)]}\n",
    "else:\n",
    "    p=0\n",
    "    t_alfa= 0\n",
    "    d= {'p':[p],'Nivel de Significância':[alfa],'t_teste':[t_teste], 't_alfa':[t_alfa], \n",
    "        'H0':[l_teste[0]], 'Teste H0':['Indefinido']}\n",
    "pd.DataFrame(d, index=[d_cauda.get(cauda)])  "
   ]
  },
  {
   "cell_type": "code",
   "execution_count": null,
   "metadata": {},
   "outputs": [],
   "source": []
  },
  {
   "cell_type": "code",
   "execution_count": 7,
   "metadata": {},
   "outputs": [
    {
     "data": {
      "text/plain": [
       "Text(0.5, 0, 'não rejeitar H0')"
      ]
     },
     "execution_count": 7,
     "metadata": {},
     "output_type": "execute_result"
    },
    {
     "data": {
      "image/png": "[encoded data removed]",
      "text/plain": [
       "<Figure size 432x288 with 4 Axes>"
      ]
     },
     "metadata": {
      "needs_background": "light"
     },
     "output_type": "display_data"
    }
   ],
   "source": [
    "lim_g= max(abs(t_teste),abs(t_alfa))\n",
    "x= np.linspace(-lim_g*1.3,lim_g*1.3,3000)       # gera um intervalo no eixo x em toda a distribuição\n",
    "y= rv.pdf(x)\n",
    "if(cauda=='i'):  \n",
    "    x1= np.linspace(-lim_g*1.3, t_teste, 3000)       # intervalor x entre limite inferior e z_teste\n",
    "    y1= rv.pdf(x1)\n",
    "    x2= np.linspace(-lim_g*1.3, t_alfa,3000)       # gera um intervalo no eixo x na região crítica\n",
    "    y2= rv.pdf(x2)\n",
    "    fig, a= plt.subplots(2,2,sharex='all')\n",
    "if(cauda=='s'):  \n",
    "    x1= np.linspace(t_teste, lim_g*1.3,3000)       # intervalor x entre z_teste e limite superior\n",
    "    y1= rv.pdf(x1)\n",
    "    x2= np.linspace(t_alfa,lim_g*1.3,3000)       # gera um intervalo no eixo x na região crítica\n",
    "    y2= rv.pdf(x2)\n",
    "    fig, a= plt.subplots(2,2,sharex='all')\n",
    "if(cauda=='b'):  \n",
    "    x1= np.linspace(t_teste, -t_teste,3000)       # intervalor x entre z_teste e limite superior\n",
    "    y1= rv.pdf(x1)\n",
    "    x2= np.linspace(t_alfa,lim_g*1.3,3000)       # gera um intervalo no eixo x na região crítica\n",
    "    y2= rv.pdf(x2)\n",
    "    fig, a= plt.subplots(2,2,sharex='all')\n",
    "    a[1][0].fill_between(-x2,rv.pdf(-x2),color='red')                    # área região  critica inferior\n",
    "    a[0][1].plot([-t_alfa, -t_alfa], [0, rv.pdf(t_alfa)], color= 'red') # marcação reg. critica inferior\n",
    "a[0][0].fill_between(x1,y1, color='blue')\n",
    "a[0][0].set_title('t_teste')\n",
    "a[1][0].fill_between(x2,y2,color='red')\n",
    "a[1][0].set_xlabel('Região Crítica')\n",
    "a[0][1].plot(x,y)\n",
    "a[0][1].plot([t_teste,t_teste],[0,rv.pdf(t_teste)], color='blue')\n",
    "a[0][1].plot([t_alfa, t_alfa], [0, rv.pdf(t_alfa)], color= 'red')\n",
    "a[0][1].set_title('H0: '+l_teste[0])\n",
    "a[0][1].set_xlabel('Ha: '+l_teste[1])\n",
    "a[1][1].set_xlabel(rej(p,alfa) + ' H0')"
   ]
  },
  {
   "cell_type": "markdown",
   "metadata": {},
   "source": [
    "# <a id='p'></a>\n",
    "# Proporção Populacional\n",
    "## Condições para o teste:\n",
    "- condições de experimento binomial (nº fixo de provas independentes e probabilidade constante: sucesso ou fracasso)\n",
    "- np >= 5  e   n(1-p) >= 5"
   ]
  },
  {
   "cell_type": "code",
   "execution_count": 5,
   "metadata": {},
   "outputs": [],
   "source": [
    "def z_Testep(p, p_pop, n):\n",
    "    z_p= float( (p-p_pop) / ( (p_pop*(1-p_pop)/n) **0.5 )  )\n",
    "    return z_p\n",
    "def p_Teste(cauda, p_pop):\n",
    "    if(cauda=='i'):    \n",
    "        tp_teste=d_cauda.get(cauda)\n",
    "        H0= 'p >= '+ str(p_pop)\n",
    "        Ha= 'p < '+ str(p_pop)\n",
    "    elif(cauda=='s'):  \n",
    "        tp_teste=d_cauda.get(cauda)\n",
    "        H0= 'p <= '+ str(p_pop)\n",
    "        Ha= 'p > '+ str(p_pop)\n",
    "    elif(cauda== 'b'): \n",
    "        tp_teste=d_cauda.get(cauda)\n",
    "        H0= 'p = '+ str(p_pop)\n",
    "        Ha= 'p <> '+ str(p_pop)\n",
    "    else: tp_teste='indefinido'\n",
    "    l_teste= [H0,Ha,tp_teste]\n",
    "    return l_teste"
   ]
  },
  {
   "cell_type": "code",
   "execution_count": 9,
   "metadata": {},
   "outputs": [
    {
     "data": {
      "text/html": [
       "<div>\n",
       "<style scoped>\n",
       "    .dataframe tbody tr th:only-of-type {\n",
       "        vertical-align: middle;\n",
       "    }\n",
       "\n",
       "    .dataframe tbody tr th {\n",
       "        vertical-align: top;\n",
       "    }\n",
       "\n",
       "    .dataframe thead th {\n",
       "        text-align: right;\n",
       "    }\n",
       "</style>\n",
       "<table border=\"1\" class=\"dataframe\">\n",
       "  <thead>\n",
       "    <tr style=\"text-align: right;\">\n",
       "      <th></th>\n",
       "      <th>H0</th>\n",
       "      <th>Ha</th>\n",
       "      <th>Tipo</th>\n",
       "      <th>p</th>\n",
       "      <th>n</th>\n",
       "      <th>np</th>\n",
       "      <th>n(1-p)</th>\n",
       "    </tr>\n",
       "  </thead>\n",
       "  <tbody>\n",
       "    <tr>\n",
       "      <th>Teste</th>\n",
       "      <td>p &lt;= 0.05</td>\n",
       "      <td>p &gt; 0.05</td>\n",
       "      <td>Teste de cauda superior</td>\n",
       "      <td>0.1</td>\n",
       "      <td>100</td>\n",
       "      <td>10.0</td>\n",
       "      <td>90.0</td>\n",
       "    </tr>\n",
       "  </tbody>\n",
       "</table>\n",
       "</div>"
      ],
      "text/plain": [
       "              H0        Ha                     Tipo    p    n    np  n(1-p)\n",
       "Teste  p <= 0.05  p > 0.05  Teste de cauda superior  0.1  100  10.0    90.0"
      ]
     },
     "execution_count": 9,
     "metadata": {},
     "output_type": "execute_result"
    }
   ],
   "source": [
    "# Amostra:\n",
    "n= 100                   # tamanho da amostra\n",
    "p= 10/n                 # proporção amostral (sample)\n",
    "#Teste:\n",
    "p_pop= 0.05            # proporção da população a ser testada\n",
    "alfa= 0.05              # nível de significância\n",
    "cauda= 's'              # Teste de cauda i=inferior, s=superior, b=bicaudal\n",
    "## rodar a célula\n",
    "l_teste= p_Teste(cauda, p_pop)    \n",
    "d={'H0':[l_teste[0]], 'Ha':[l_teste[1]],'Tipo':[l_teste[2]], 'p':[p], 'n':[n], 'np':[n*p], 'n(1-p)':n*(1-p)}\n",
    "# np e n(1-p) >=5                                   # distribuição amostral de p pode ser aproximada a uma distribuição normal\n",
    "pd.DataFrame(d, index=['Teste'])"
   ]
  },
  {
   "cell_type": "code",
   "execution_count": null,
   "metadata": {},
   "outputs": [],
   "source": []
  },
  {
   "cell_type": "code",
   "execution_count": 10,
   "metadata": {},
   "outputs": [
    {
     "data": {
      "text/html": [
       "<div>\n",
       "<style scoped>\n",
       "    .dataframe tbody tr th:only-of-type {\n",
       "        vertical-align: middle;\n",
       "    }\n",
       "\n",
       "    .dataframe tbody tr th {\n",
       "        vertical-align: top;\n",
       "    }\n",
       "\n",
       "    .dataframe thead th {\n",
       "        text-align: right;\n",
       "    }\n",
       "</style>\n",
       "<table border=\"1\" class=\"dataframe\">\n",
       "  <thead>\n",
       "    <tr style=\"text-align: right;\">\n",
       "      <th></th>\n",
       "      <th>p Amostra</th>\n",
       "      <th>Tam Amostra</th>\n",
       "      <th>vlr_p</th>\n",
       "      <th>Nivel de Significância</th>\n",
       "      <th>z_teste</th>\n",
       "      <th>z_alfa</th>\n",
       "      <th>H0</th>\n",
       "      <th>Teste H0</th>\n",
       "    </tr>\n",
       "  </thead>\n",
       "  <tbody>\n",
       "    <tr>\n",
       "      <th>Teste de cauda superior</th>\n",
       "      <td>0.1</td>\n",
       "      <td>100</td>\n",
       "      <td>0.010891</td>\n",
       "      <td>0.05</td>\n",
       "      <td>2.294157</td>\n",
       "      <td>1.644854</td>\n",
       "      <td>p &lt;= 0.05</td>\n",
       "      <td>rejeitar</td>\n",
       "    </tr>\n",
       "  </tbody>\n",
       "</table>\n",
       "</div>"
      ],
      "text/plain": [
       "                         p Amostra  Tam Amostra     vlr_p  \\\n",
       "Teste de cauda superior        0.1          100  0.010891   \n",
       "\n",
       "                         Nivel de Significância   z_teste    z_alfa  \\\n",
       "Teste de cauda superior                    0.05  2.294157  1.644854   \n",
       "\n",
       "                                H0  Teste H0  \n",
       "Teste de cauda superior  p <= 0.05  rejeitar  "
      ]
     },
     "execution_count": 10,
     "metadata": {},
     "output_type": "execute_result"
    }
   ],
   "source": [
    "z_teste= z_Testep(p, p_pop, n)\n",
    "rv= scipy.stats.norm(0,1)\n",
    "if(cauda=='b'): \n",
    "    vlr_p= 2* rv.sf(abs(z_teste))\n",
    "    z_alfa= rv.isf(alfa/2)\n",
    "    margem_err= z_alfa * ( ( p*(1-p)/n )**0.5 )\n",
    "    intervalo_confianca= (round(p-margem_err,4), round(p+margem_err,4))\n",
    "    d= {'p Amostra':[p], 'Tam Amostra':[n], 'vlr_p':[vlr_p],\n",
    "        'Nivel de Significância':[alfa],'z_teste':[abs(z_teste)], 'z_alfa/2':[z_alfa],\n",
    "        'H0':[l_teste[0]], 'Interv. Conf.':[intervalo_confianca], 'Teste H0':[rej(vlr_p,alfa)]}\n",
    "elif(cauda=='i'):  \n",
    "    vlr_p= rv.cdf(z_teste)\n",
    "    z_alfa= rv.ppf(alfa)                    # ppf inverse cdf\n",
    "    d= {'p Amostra':[p], 'Tam Amostra':[n], 'vlr_p':[vlr_p], \n",
    "        'Nivel de Significância':[alfa],'z_teste':[z_teste], 'z_alfa':[z_alfa],\n",
    "        'H0':[l_teste[0]], 'Teste H0':[rej(vlr_p,alfa)]}\n",
    "elif(cauda=='s'): \n",
    "    vlr_p= rv.sf(z_teste)\n",
    "    z_alfa = rv.isf(alfa)\n",
    "    d= {'p Amostra':[p], 'Tam Amostra':[n], 'vlr_p':[vlr_p],\n",
    "        'Nivel de Significância':[alfa],'z_teste':[z_teste], 'z_alfa':[z_alfa],\n",
    "        'H0':[l_teste[0]], 'Teste H0':[rej(vlr_p,alfa)]}\n",
    "else:\n",
    "    vlr_p=0\n",
    "    z_alfa= 0\n",
    "    d= {'vlr_p':[vlr_p],'Nivel de Significância':[alfa],'z_teste':[z_teste], 'z_alfa':[z_alfa], \n",
    "        'H0':[l_teste[0]], 'Teste H0':['Indefinido']}\n",
    "pd.DataFrame(d, index=[d_cauda.get(cauda)])  "
   ]
  },
  {
   "cell_type": "code",
   "execution_count": 8,
   "metadata": {},
   "outputs": [
    {
     "data": {
      "text/plain": [
       "Text(0.5, 0, 'rejeitar H0')"
      ]
     },
     "execution_count": 8,
     "metadata": {},
     "output_type": "execute_result"
    },
    {
     "data": {
      "image/png": "[encoded data removed]",
      "text/plain": [
       "<Figure size 432x288 with 4 Axes>"
      ]
     },
     "metadata": {
      "needs_background": "light"
     },
     "output_type": "display_data"
    }
   ],
   "source": [
    "lim_g= max(abs(z_teste),abs(z_alfa))\n",
    "x= np.linspace(-lim_g*1.3,lim_g*1.3,3000)       # gera um intervalo no eixo x em toda a distribuição\n",
    "y= rv.pdf(x)\n",
    "if(cauda=='i'):  \n",
    "    x1= np.linspace(-lim_g*1.3, z_teste, 3000)       # intervalo x entre limite inferior e z_teste\n",
    "    y1= rv.pdf(x1)\n",
    "    x2= np.linspace(-lim_g*1.3, z_alfa,3000)       # gera um intervalo no eixo x na região crítica\n",
    "    y2= rv.pdf(x2)\n",
    "    fig, a= plt.subplots(2,2,sharex='all')\n",
    "if(cauda=='s'):  \n",
    "    x1= np.linspace(z_teste, lim_g*1.3,3000)       # intervalo x entre z_teste e limite superior\n",
    "    y1= rv.pdf(x1)\n",
    "    x2= np.linspace(z_alfa,lim_g*1.3,3000)       # gera um intervalo no eixo x na região crítica\n",
    "    y2= rv.pdf(x2)\n",
    "    fig, a= plt.subplots(2,2,sharex='all')\n",
    "if(cauda=='b'):  \n",
    "    x1= np.linspace(z_teste, -z_teste,3000)       # intervalo x entre z_teste e limite superior\n",
    "    y1= rv.pdf(x1)\n",
    "    x2= np.linspace(z_alfa,lim_g*1.3,3000)       # gera um intervalo no eixo x na região crítica\n",
    "    y2= rv.pdf(x2)\n",
    "    fig, a= plt.subplots(2,2,sharex='all')\n",
    "    a[1][0].fill_between(-x2,rv.pdf(-x2),color='red')                    # área região  critica inferior\n",
    "    a[0][1].plot([-z_alfa, -z_alfa], [0, rv.pdf(z_alfa)], color= 'red') # marcação reg. critica inferior\n",
    "a[0][0].fill_between(x1,y1, color='blue')\n",
    "a[0][0].set_title('Z_teste')\n",
    "a[1][0].fill_between(x2,y2,color='red')\n",
    "a[1][0].set_xlabel('Região Crítica')\n",
    "a[0][1].plot(x,y)\n",
    "a[0][1].plot([z_teste,z_teste],[0,rv.pdf(z_teste)], color='blue')\n",
    "a[0][1].plot([z_alfa, z_alfa], [0, rv.pdf(z_alfa)], color= 'red')\n",
    "a[0][1].set_title('H0: '+l_teste[0])\n",
    "a[0][1].set_xlabel('Ha: '+l_teste[1])\n",
    "a[1][1].set_xlabel(rej(vlr_p,alfa) + ' H0')"
   ]
  },
  {
   "cell_type": "code",
   "execution_count": null,
   "metadata": {},
   "outputs": [],
   "source": []
  }
 ],
 "metadata": {
  "kernelspec": {
   "display_name": "Python 3",
   "language": "python",
   "name": "python3"
  },
  "language_info": {
   "codemirror_mode": {
    "name": "ipython",
    "version": 3
   },
   "file_extension": ".py",
   "mimetype": "text/x-python",
   "name": "python",
   "nbconvert_exporter": "python",
   "pygments_lexer": "ipython3",
   "version": "3.7.4"
  }
 },
 "nbformat": 4,
 "nbformat_minor": 2
}
