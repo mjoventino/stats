{
 "cells": [
  {
   "cell_type": "markdown",
   "metadata": {},
   "source": [
    "## Distribuição da Amostra - Estimação de Parâmetros Estatísticos\n",
    "### média amostral m é a melhor estimativa pontual da média populacional m_p\n",
    "### Margem de erro 'margem_err' é a dif max possível entre m e m_p com um certo grau de confiança"
   ]
  },
  {
   "cell_type": "code",
   "execution_count": 1,
   "metadata": {},
   "outputs": [],
   "source": [
    "from scipy.stats import norm\n",
    "import scipy.stats\n",
    "from scipy.stats import t as t_student\n",
    "import pandas as pd\n",
    "import matplotlib.pyplot as plt\n",
    "import numpy as np\n",
    "import pandas as pd\n",
    "import math"
   ]
  },
  {
   "cell_type": "markdown",
   "metadata": {},
   "source": [
    "### 1. std da população conhecido\n",
    "### 2. [Tamanho Amostral](#2tam_amostra)\n",
    "### 3. [Intervalo de Confiança com base na amostra - std da população não conhecido](#3ic_stdN)\n",
    "### 4. [Intervalo de Confiança para a Proporção p](#4icP)\n",
    "### 5. [Tamanho da amostra n para o valor planejado de p](#5nP)\n",
    "-------------------------------"
   ]
  },
  {
   "cell_type": "markdown",
   "metadata": {},
   "source": [
    "## 1. std da população conhecido"
   ]
  },
  {
   "cell_type": "code",
   "execution_count": 3,
   "metadata": {},
   "outputs": [],
   "source": [
    "# erro_padrão_Media_amostra (std_p,  N  (populacao),  n= tamanho amostra)\n",
    "def std_m(std_p,n):                               # n/N < 0.05 ou populacao infinita\n",
    "    return float(std_p/n**0.5)\n",
    "def std_m_N(std_p,n,N):   \n",
    "    return float((N-n)/(N-1)*std_p/n**0.5)\n",
    "rv= scipy.stats.norm(0,1)"
   ]
  },
  {
   "cell_type": "code",
   "execution_count": 4,
   "metadata": {},
   "outputs": [
    {
     "data": {
      "text/plain": [
       "0.33541019662496846"
      ]
     },
     "execution_count": 4,
     "metadata": {},
     "output_type": "execute_result"
    }
   ],
   "source": [
    "# erro_padrão_m (n,N,std_p)\n",
    "std_p= 1.5            # inserir std da populacao\n",
    "n= 20                # inserir tamanho da amostra\n",
    "e_m= std_m(std_p,n)    # n/N < 0.05\n",
    "e_m                          # erro padrão da média da amostra"
   ]
  },
  {
   "cell_type": "code",
   "execution_count": 48,
   "metadata": {},
   "outputs": [
    {
     "data": {
      "text/plain": [
       "0.999438909560036"
      ]
     },
     "execution_count": 48,
     "metadata": {},
     "output_type": "execute_result"
    }
   ],
   "source": [
    "# Probabilidade no intervalo em torno da m_p (m_p, e_m)\n",
    "m_p= 22.9            # a média das amostras tende para a média da população\n",
    "#e_m= 20\n",
    "x1= m_p - 6                            # inserir limites do intervalo\n",
    "x2= m_p + 6                              # inserir limites do intervalo\n",
    "#x1=m_p\n",
    "#x2=100000\n",
    "z1= (x1 - m_p) / e_m\n",
    "z2= (x2 - m_p) / e_m\n",
    "rv= scipy.stats.norm(0,1)\n",
    "pcdf1= rv.cdf(z1)\n",
    "pcdf2= rv.cdf(z2)\n",
    "pcdf2 - pcdf1"
   ]
  },
  {
   "cell_type": "code",
   "execution_count": 45,
   "metadata": {},
   "outputs": [
    {
     "data": {
      "text/plain": [
       "625.0"
      ]
     },
     "execution_count": 45,
     "metadata": {},
     "output_type": "execute_result"
    }
   ],
   "source": [
    "# n (std_p e e_m)  \n",
    "std_p= 500\n",
    "e_m= 20\n",
    "n= std_p**2 / e_m**2     # n/N < 0.05 ou populacao infinita\n",
    "n"
   ]
  },
  {
   "cell_type": "code",
   "execution_count": 5,
   "metadata": {},
   "outputs": [
    {
     "data": {
      "text/html": [
       "<div>\n",
       "<style scoped>\n",
       "    .dataframe tbody tr th:only-of-type {\n",
       "        vertical-align: middle;\n",
       "    }\n",
       "\n",
       "    .dataframe tbody tr th {\n",
       "        vertical-align: top;\n",
       "    }\n",
       "\n",
       "    .dataframe thead th {\n",
       "        text-align: right;\n",
       "    }\n",
       "</style>\n",
       "<table border=\"1\" class=\"dataframe\">\n",
       "  <thead>\n",
       "    <tr style=\"text-align: right;\">\n",
       "      <th></th>\n",
       "      <th>Tam. Amostra</th>\n",
       "      <th>std_p</th>\n",
       "      <th>Nivel de Confiança</th>\n",
       "      <th>Media População</th>\n",
       "      <th>Margem de erro</th>\n",
       "      <th>Intervalo de Confiança</th>\n",
       "    </tr>\n",
       "  </thead>\n",
       "  <tbody>\n",
       "    <tr>\n",
       "      <th>0</th>\n",
       "      <td>20</td>\n",
       "      <td>1.5</td>\n",
       "      <td>0.9</td>\n",
       "      <td>22.9</td>\n",
       "      <td>0.551701</td>\n",
       "      <td>(22.348299321564912, 23.451700678435085)</td>\n",
       "    </tr>\n",
       "  </tbody>\n",
       "</table>\n",
       "</div>"
      ],
      "text/plain": [
       "   Tam. Amostra  std_p  Nivel de Confiança  Media População  Margem de erro  \\\n",
       "0            20    1.5                 0.9             22.9        0.551701   \n",
       "\n",
       "                     Intervalo de Confiança  \n",
       "0  (22.348299321564912, 23.451700678435085)  "
      ]
     },
     "execution_count": 5,
     "metadata": {},
     "output_type": "execute_result"
    }
   ],
   "source": [
    "# Margem de erro e Intervalo de Confiança (a_conf, e_m, m_p)     # std_populaçao conhecido\n",
    "# e_m= 0.57                 # com base em (n, std_p)\n",
    "m_p= 22.9                    # média amostral é a melhor estimativa pontual da média populacional\n",
    "a_conf= 0.9                # inserir nível de confiança\n",
    "a= (1-a_conf)/2\n",
    "rv= scipy.stats.norm(0,1)\n",
    "margem_err= abs(rv.ppf(a)*e_m)                            #inverse cdf\n",
    "intervalo_confianca= (m_p-margem_err, m_p+margem_err)\n",
    "d= {'Tam. Amostra':[n],'std_p':[std_p],'Nivel de Confiança':a_conf,'Media População':m_p,'Margem de erro':[margem_err],\n",
    "    'Intervalo de Confiança':[intervalo_confianca]}\n",
    "pd.DataFrame(d)"
   ]
  },
  {
   "cell_type": "code",
   "execution_count": 6,
   "metadata": {},
   "outputs": [
    {
     "data": {
      "text/plain": [
       "(22.348299321564912, 23.451700678435085)"
      ]
     },
     "execution_count": 6,
     "metadata": {},
     "output_type": "execute_result"
    }
   ],
   "source": [
    "# intervalo de confiança (a_conf, m_p, e_m)\n",
    "x99= norm.interval(a_conf,m_p,e_m)             # calcula limites do intervalo com base no nivel de confiança\n",
    "(x99[0],x99[1])"
   ]
  },
  {
   "cell_type": "code",
   "execution_count": 13,
   "metadata": {},
   "outputs": [
    {
     "data": {
      "image/png": "[encoded data removed]",
      "text/plain": [
       "<Figure size 432x288 with 1 Axes>"
      ]
     },
     "metadata": {
      "needs_background": "light"
     },
     "output_type": "display_data"
    }
   ],
   "source": [
    "# Distribuição Normal do erro da média amostral\n",
    "#m_p= 22.9            # a média das amostras tende para a média da população\n",
    "rv= scipy.stats.norm(m_p,e_m)\n",
    "x99= norm.interval(0.9999,m_p,e_m)             # calcula limites do intervalo com 99% de confiança\n",
    "x= np.linspace(x99[0],x99[1],5000)       # gera um intervalo no eixo x\n",
    "plt.plot(x, rv.pdf(x))\n",
    "plt.plot([m_p-margem_err, m_p-margem_err], [0, rv.pdf(m_p-margem_err)], color= 'red')\n",
    "plt.plot([m_p+margem_err, m_p+margem_err], [0, rv.pdf(m_p+margem_err)], color= 'red')\n",
    "plt.show()"
   ]
  },
  {
   "cell_type": "markdown",
   "metadata": {},
   "source": [
    "<a id='2tam_amostra'></a>\n",
    "## Tamanho Amostral\n",
    "- estudos anteriores: estimativa do std_p\n",
    "- estudo-piloto com amostra preliminar: std da amostra pode ser usado como valor planejado de std_p\n",
    "- Amplitude / 4 = aproximação grosseira do std_p  (dif entre maiores e menores valores de dados da população)"
   ]
  },
  {
   "cell_type": "code",
   "execution_count": 2,
   "metadata": {},
   "outputs": [
    {
     "data": {
      "text/html": [
       "<div>\n",
       "<style scoped>\n",
       "    .dataframe tbody tr th:only-of-type {\n",
       "        vertical-align: middle;\n",
       "    }\n",
       "\n",
       "    .dataframe tbody tr th {\n",
       "        vertical-align: top;\n",
       "    }\n",
       "\n",
       "    .dataframe thead th {\n",
       "        text-align: right;\n",
       "    }\n",
       "</style>\n",
       "<table border=\"1\" class=\"dataframe\">\n",
       "  <thead>\n",
       "    <tr style=\"text-align: right;\">\n",
       "      <th></th>\n",
       "      <th>Nivel de Confiança</th>\n",
       "      <th>std</th>\n",
       "      <th>Margem de erro</th>\n",
       "      <th>Tamanho Estimado da amostra</th>\n",
       "    </tr>\n",
       "  </thead>\n",
       "  <tbody>\n",
       "    <tr>\n",
       "      <th>0</th>\n",
       "      <td>0.97</td>\n",
       "      <td>2.0743</td>\n",
       "      <td>0.5</td>\n",
       "      <td>82</td>\n",
       "    </tr>\n",
       "  </tbody>\n",
       "</table>\n",
       "</div>"
      ],
      "text/plain": [
       "   Nivel de Confiança     std  Margem de erro  Tamanho Estimado da amostra\n",
       "0                0.97  2.0743             0.5                           82"
      ]
     },
     "execution_count": 2,
     "metadata": {},
     "output_type": "execute_result"
    }
   ],
   "source": [
    "# Tam n da amostra(std, margem de erro, nivel de confiança)   quando n/N < 0.05 ou populacao infinita\n",
    "a_conf= 0.97\n",
    "margem_err= 0.5\n",
    "std_p= 2.0743 #  0.1764 ** 0.5\n",
    "a= (1-a_conf)/2\n",
    "rv= scipy.stats.norm(0,1)\n",
    "z= abs(rv.ppf(a))                         #inverse cdf\n",
    "n= (z * std_p / margem_err) **2\n",
    "n= math.ceil(n)\n",
    "d= {'Nivel de Confiança':[a_conf], 'std':[std_p], 'Margem de erro':[margem_err], 'Tamanho Estimado da amostra':[n]}\n",
    "pd.DataFrame(d)"
   ]
  },
  {
   "cell_type": "code",
   "execution_count": 34,
   "metadata": {},
   "outputs": [
    {
     "data": {
      "text/html": [
       "<div>\n",
       "<style scoped>\n",
       "    .dataframe tbody tr th:only-of-type {\n",
       "        vertical-align: middle;\n",
       "    }\n",
       "\n",
       "    .dataframe tbody tr th {\n",
       "        vertical-align: top;\n",
       "    }\n",
       "\n",
       "    .dataframe thead th {\n",
       "        text-align: right;\n",
       "    }\n",
       "</style>\n",
       "<table border=\"1\" class=\"dataframe\">\n",
       "  <thead>\n",
       "    <tr style=\"text-align: right;\">\n",
       "      <th></th>\n",
       "      <th>Nivel de Confiança</th>\n",
       "      <th>Tam. População</th>\n",
       "      <th>std</th>\n",
       "      <th>Margem de erro</th>\n",
       "      <th>Tamanho Estimado da amostra</th>\n",
       "    </tr>\n",
       "  </thead>\n",
       "  <tbody>\n",
       "    <tr>\n",
       "      <th>0</th>\n",
       "      <td>0.92</td>\n",
       "      <td>386</td>\n",
       "      <td>400</td>\n",
       "      <td>50</td>\n",
       "      <td>131</td>\n",
       "    </tr>\n",
       "  </tbody>\n",
       "</table>\n",
       "</div>"
      ],
      "text/plain": [
       "   Nivel de Confiança  Tam. População  std  Margem de erro  \\\n",
       "0                0.92             386  400              50   \n",
       "\n",
       "   Tamanho Estimado da amostra  \n",
       "0                          131  "
      ]
     },
     "execution_count": 34,
     "metadata": {},
     "output_type": "execute_result"
    }
   ],
   "source": [
    "# Tam n da amostra(std, margem de erro, nivel de confiança, N=tam Popul)  quando n/N > 0.05\n",
    "a_conf= 0.92\n",
    "margem_err= 50\n",
    "std_p= 400\n",
    "N= 386\n",
    "a= (1-a_conf)/2\n",
    "rv= scipy.stats.norm(0,1)\n",
    "z= abs(rv.ppf(a))\n",
    "n= N * std_p**2 * z**2 / ( (N-1) * margem_err**2 + std_p**2 * z**2 )\n",
    "#n= (z * std_p / margem_err) **2\n",
    "n= math.ceil(n)\n",
    "d= {'Nivel de Confiança':[a_conf],'Tam. População':[N], 'std':[std_p], 'Margem de erro':[margem_err], \n",
    "    'Tamanho Estimado da amostra':[n]}\n",
    "pd.DataFrame(d)"
   ]
  },
  {
   "cell_type": "markdown",
   "metadata": {},
   "source": [
    "<a id='3ic_stdN'></a>\n",
    "## Intervalo de Confiança com base na amostra - std da população não conhecido"
   ]
  },
  {
   "cell_type": "code",
   "execution_count": 18,
   "metadata": {},
   "outputs": [
    {
     "data": {
      "text/html": [
       "<div>\n",
       "<style scoped>\n",
       "    .dataframe tbody tr th:only-of-type {\n",
       "        vertical-align: middle;\n",
       "    }\n",
       "\n",
       "    .dataframe tbody tr th {\n",
       "        vertical-align: top;\n",
       "    }\n",
       "\n",
       "    .dataframe thead th {\n",
       "        text-align: right;\n",
       "    }\n",
       "</style>\n",
       "<table border=\"1\" class=\"dataframe\">\n",
       "  <thead>\n",
       "    <tr style=\"text-align: right;\">\n",
       "      <th></th>\n",
       "      <th>Nivel de Confiança</th>\n",
       "      <th>t_alfa/2</th>\n",
       "      <th>Media</th>\n",
       "      <th>Margem de erro</th>\n",
       "      <th>Intervalo de Confiança</th>\n",
       "    </tr>\n",
       "  </thead>\n",
       "  <tbody>\n",
       "    <tr>\n",
       "      <th>0</th>\n",
       "      <td>0.98</td>\n",
       "      <td>2.60248</td>\n",
       "      <td>330</td>\n",
       "      <td>26.024803</td>\n",
       "      <td>(303.9751970500451, 356.0248029499549)</td>\n",
       "    </tr>\n",
       "  </tbody>\n",
       "</table>\n",
       "</div>"
      ],
      "text/plain": [
       "   Nivel de Confiança  t_alfa/2  Media  Margem de erro  \\\n",
       "0                0.98   2.60248    330       26.024803   \n",
       "\n",
       "                   Intervalo de Confiança  \n",
       "0  (303.9751970500451, 356.0248029499549)  "
      ]
     },
     "execution_count": 18,
     "metadata": {},
     "output_type": "execute_result"
    }
   ],
   "source": [
    "# intervalo de confiança (n,p_conf, m, std)             # media e std da amostra com dist normal\n",
    "n= 16\n",
    "a_conf= 0.98\n",
    "m= 330                   # média e std da amostra\n",
    "std= 40\n",
    "a= (1-a_conf)/2\n",
    "rv= t_student(n-1)\n",
    "t_alfa= rv.isf(a)\n",
    "margem_err= abs(rv.ppf(a) * std / n**0.5)\n",
    "intervalo_confianca= (m-margem_err, m+margem_err)\n",
    "#intervalo_confianca\n",
    "d= {'Nivel de Confiança':a_conf, 't_alfa/2':[t_alfa],'Media':m,'Margem de erro':[margem_err],'Intervalo de Confiança':[intervalo_confianca]}\n",
    "pd.DataFrame(d)"
   ]
  },
  {
   "cell_type": "code",
   "execution_count": 46,
   "metadata": {},
   "outputs": [
    {
     "data": {
      "text/plain": [
       "0.34"
      ]
     },
     "execution_count": 46,
     "metadata": {},
     "output_type": "execute_result"
    }
   ],
   "source": [
    "136/400"
   ]
  },
  {
   "cell_type": "code",
   "execution_count": 19,
   "metadata": {},
   "outputs": [
    {
     "data": {
      "image/png": "[encoded data removed]",
      "text/plain": [
       "<Figure size 432x288 with 1 Axes>"
      ]
     },
     "metadata": {
      "needs_background": "light"
     },
     "output_type": "display_data"
    }
   ],
   "source": [
    "x= np.linspace(-2*t_alfa,2*t_alfa,3000)       # gera um intervalo no eixo x\n",
    "plt.plot(x, rv.pdf(x))\n",
    "plt.plot([-t_alfa, -t_alfa], [0, rv.pdf(-t_alfa)], color= 'red')\n",
    "plt.plot([t_alfa, t_alfa], [0, rv.pdf(t_alfa)], color= 'red')\n",
    "plt.show()"
   ]
  },
  {
   "cell_type": "markdown",
   "metadata": {},
   "source": [
    "<a id='4icP'></a>\n",
    "## Intervalo de Confiança para a Proporção <i>p"
   ]
  },
  {
   "cell_type": "code",
   "execution_count": 20,
   "metadata": {},
   "outputs": [],
   "source": [
    "# erro_padrão_proporção_amostra (p, n, N)        # np >=5 e  n(1-p) >= 5\n",
    "def err_p(n,p):                                  # n/N < 0.05 ou populacao infinita\n",
    "    return float( (p*(1-p)/n)**0.5 )\n",
    "def err_p_N(n,p,N):\n",
    "    return float( ( ((N-n)/(N-1))**0.5 ) * ((p*(1-p)/n)**0.5) )\n",
    "rv= scipy.stats.norm(0,1)"
   ]
  },
  {
   "cell_type": "code",
   "execution_count": 21,
   "metadata": {},
   "outputs": [
    {
     "data": {
      "text/html": [
       "<div>\n",
       "<style scoped>\n",
       "    .dataframe tbody tr th:only-of-type {\n",
       "        vertical-align: middle;\n",
       "    }\n",
       "\n",
       "    .dataframe tbody tr th {\n",
       "        vertical-align: top;\n",
       "    }\n",
       "\n",
       "    .dataframe thead th {\n",
       "        text-align: right;\n",
       "    }\n",
       "</style>\n",
       "<table border=\"1\" class=\"dataframe\">\n",
       "  <thead>\n",
       "    <tr style=\"text-align: right;\">\n",
       "      <th></th>\n",
       "      <th>p</th>\n",
       "      <th>Erro padrão p</th>\n",
       "    </tr>\n",
       "  </thead>\n",
       "  <tbody>\n",
       "    <tr>\n",
       "      <th>0</th>\n",
       "      <td>0.056</td>\n",
       "      <td>0.020565</td>\n",
       "    </tr>\n",
       "  </tbody>\n",
       "</table>\n",
       "</div>"
      ],
      "text/plain": [
       "       p  Erro padrão p\n",
       "0  0.056       0.020565"
      ]
     },
     "execution_count": 21,
     "metadata": {},
     "output_type": "execute_result"
    }
   ],
   "source": [
    "# erro_padrão_p_amostra (n,p_população, N)         # np >=5 e  n(1-p) >= 5\n",
    "n= 125\n",
    "p= 7/n\n",
    "erro_p= err_p(n,p)               # n/N < 0.05 ou populacao infinita\n",
    "d= {'p':[p], 'Erro padrão p':erro_p}\n",
    "pd.DataFrame(d)"
   ]
  },
  {
   "cell_type": "code",
   "execution_count": 18,
   "metadata": {},
   "outputs": [
    {
     "data": {
      "text/plain": [
       "0.21185539858339675"
      ]
     },
     "execution_count": 18,
     "metadata": {},
     "output_type": "execute_result"
    }
   ],
   "source": [
    "# Probabilidade Proporção p no intervalo em torno da p_med_pop (n,p)\n",
    "#n= 30            \n",
    "#p= 0.6               # a média da proporção das amostras tende para a média da proporção da população\n",
    "#erro_p= err_p(n,p)\n",
    "#x1= p - 0.04                            # inserir limites do intervalo\n",
    "#x2= p + 0.04                            # inserir limites do intervalo\n",
    "x1= 0.3\n",
    "x2= 0.8\n",
    "z1= (x1 - p) / erro_p\n",
    "z2= (x2 - p) / erro_p\n",
    "rv= scipy.stats.norm(0,1)\n",
    "pcdf1= rv.cdf(z1)\n",
    "pcdf2= rv.cdf(z2)\n",
    "pcdf2 - pcdf1"
   ]
  },
  {
   "cell_type": "code",
   "execution_count": 10,
   "metadata": {},
   "outputs": [
    {
     "data": {
      "text/plain": [
       "[<matplotlib.lines.Line2D at 0x264fe197148>]"
      ]
     },
     "execution_count": 10,
     "metadata": {},
     "output_type": "execute_result"
    },
    {
     "data": {
      "image/png": "[encoded data removed]",
      "text/plain": [
       "<Figure size 432x288 with 1 Axes>"
      ]
     },
     "metadata": {
      "needs_background": "light"
     },
     "output_type": "display_data"
    }
   ],
   "source": [
    "# Distribuição Normal do erro da Proporção amostral\n",
    "rv= scipy.stats.norm(p,erro_p)\n",
    "x99= norm.interval(0.9999,p,erro_p)             # calcula limites do intervalo com 99% de confiança\n",
    "x= np.linspace(x99[0],x99[1],5000)       # gera um intervalo no eixo x\n",
    "plt.plot(x, rv.pdf(x))"
   ]
  },
  {
   "cell_type": "code",
   "execution_count": 22,
   "metadata": {},
   "outputs": [
    {
     "data": {
      "text/html": [
       "<div>\n",
       "<style scoped>\n",
       "    .dataframe tbody tr th:only-of-type {\n",
       "        vertical-align: middle;\n",
       "    }\n",
       "\n",
       "    .dataframe tbody tr th {\n",
       "        vertical-align: top;\n",
       "    }\n",
       "\n",
       "    .dataframe thead th {\n",
       "        text-align: right;\n",
       "    }\n",
       "</style>\n",
       "<table border=\"1\" class=\"dataframe\">\n",
       "  <thead>\n",
       "    <tr style=\"text-align: right;\">\n",
       "      <th></th>\n",
       "      <th>n</th>\n",
       "      <th>p</th>\n",
       "      <th>n.p</th>\n",
       "      <th>n.(1-p)</th>\n",
       "      <th>nivel de confiança</th>\n",
       "      <th>Margem de Erro</th>\n",
       "      <th>Interv. Conf</th>\n",
       "    </tr>\n",
       "  </thead>\n",
       "  <tbody>\n",
       "    <tr>\n",
       "      <th>0</th>\n",
       "      <td>125</td>\n",
       "      <td>0.056</td>\n",
       "      <td>7.0</td>\n",
       "      <td>118.0</td>\n",
       "      <td>0.87</td>\n",
       "      <td>0.031137</td>\n",
       "      <td>(0.024862760653218834, 0.08713723934678116)</td>\n",
       "    </tr>\n",
       "  </tbody>\n",
       "</table>\n",
       "</div>"
      ],
      "text/plain": [
       "     n      p  n.p  n.(1-p)  nivel de confiança  Margem de Erro  \\\n",
       "0  125  0.056  7.0    118.0                0.87        0.031137   \n",
       "\n",
       "                                  Interv. Conf  \n",
       "0  (0.024862760653218834, 0.08713723934678116)  "
      ]
     },
     "execution_count": 22,
     "metadata": {},
     "output_type": "execute_result"
    }
   ],
   "source": [
    "# margem de erro e Intervalo de Confiança (n, p, nivel_confiança)      # da amostra com np>=5 e n(1-p)>=5\n",
    "#n= 800\n",
    "#p= 0.7\n",
    "a_conf= 0.87                # inserir nível de confiança\n",
    "# rodar a celula\n",
    "rv= scipy.stats.norm(0,1)\n",
    "a= (1-a_conf)/2\n",
    "z = abs(rv.ppf(a))                            #inverse cdf\n",
    "margem_err= z * ( ( p*(1-p)/n )**0.5 )\n",
    "intervalo_confianca= (p-margem_err, p+margem_err)\n",
    "d= {'n':[n], 'p':[p],'n.p':[n*p],'n.(1-p)':[n*(1-p)], 'nivel de confiança':[a_conf], \n",
    "    'Margem de Erro':[margem_err], 'Interv. Conf':[intervalo_confianca]}\n",
    "pd.DataFrame(d)"
   ]
  },
  {
   "cell_type": "code",
   "execution_count": 25,
   "metadata": {},
   "outputs": [
    {
     "data": {
      "image/png": "[encoded data removed]",
      "text/plain": [
       "<Figure size 432x288 with 1 Axes>"
      ]
     },
     "metadata": {
      "needs_background": "light"
     },
     "output_type": "display_data"
    }
   ],
   "source": [
    "rv= scipy.stats.norm(p,erro_p)\n",
    "x= np.linspace(p-5*erro_p,p+5*erro_p,3000)       # gera um intervalo no eixo x\n",
    "plt.plot(x, rv.pdf(x))\n",
    "plt.plot([p-margem_err, p-margem_err], [0, rv.pdf(p-margem_err)], color= 'red')\n",
    "plt.plot([p+margem_err, p+margem_err], [0, rv.pdf(p+margem_err)], color= 'red')\n",
    "plt.show()"
   ]
  },
  {
   "cell_type": "markdown",
   "metadata": {},
   "source": [
    "<a id='5nP'></a>\n",
    "## Tamanho da amostra n para o valor planejado de p\n",
    "- proporção de amostra anterior ou unidades similares\n",
    "- proporção amostral em estudo-piloto\n",
    "- palpite\n",
    "- p= 0.5"
   ]
  },
  {
   "cell_type": "code",
   "execution_count": 18,
   "metadata": {},
   "outputs": [
    {
     "data": {
      "text/html": [
       "<div>\n",
       "<style scoped>\n",
       "    .dataframe tbody tr th:only-of-type {\n",
       "        vertical-align: middle;\n",
       "    }\n",
       "\n",
       "    .dataframe tbody tr th {\n",
       "        vertical-align: top;\n",
       "    }\n",
       "\n",
       "    .dataframe thead th {\n",
       "        text-align: right;\n",
       "    }\n",
       "</style>\n",
       "<table border=\"1\" class=\"dataframe\">\n",
       "  <thead>\n",
       "    <tr style=\"text-align: right;\">\n",
       "      <th></th>\n",
       "      <th>p</th>\n",
       "      <th>Margem de Erro</th>\n",
       "      <th>Nivel de Confiança</th>\n",
       "      <th>Tam. Amostra</th>\n",
       "    </tr>\n",
       "  </thead>\n",
       "  <tbody>\n",
       "    <tr>\n",
       "      <th>0</th>\n",
       "      <td>0.5</td>\n",
       "      <td>0.025</td>\n",
       "      <td>0.9</td>\n",
       "      <td>1083</td>\n",
       "    </tr>\n",
       "  </tbody>\n",
       "</table>\n",
       "</div>"
      ],
      "text/plain": [
       "     p  Margem de Erro  Nivel de Confiança  Tam. Amostra\n",
       "0  0.5           0.025                 0.9          1083"
      ]
     },
     "execution_count": 18,
     "metadata": {},
     "output_type": "execute_result"
    }
   ],
   "source": [
    "# Tamanho da amostra n (p, margem_erro)             # populacao infinita\n",
    "p= 0.5                 # estimar por 0.5   - valor máximo\n",
    "margem_err= 0.025\n",
    "a_conf= 0.9\n",
    "rv= scipy.stats.norm(0,1)\n",
    "a= (1-a_conf)/2\n",
    "z = abs(rv.ppf(a))                            #inverse cdf\n",
    "n= z**2 * p*(1-p) / margem_err**2\n",
    "n= math.ceil(n)\n",
    "d={'p':[p], 'Margem de Erro':[margem_err], 'Nivel de Confiança':[a_conf], 'Tam. Amostra':[n]}\n",
    "pd.DataFrame(d)"
   ]
  },
  {
   "cell_type": "code",
   "execution_count": 46,
   "metadata": {},
   "outputs": [
    {
     "data": {
      "text/html": [
       "<div>\n",
       "<style scoped>\n",
       "    .dataframe tbody tr th:only-of-type {\n",
       "        vertical-align: middle;\n",
       "    }\n",
       "\n",
       "    .dataframe tbody tr th {\n",
       "        vertical-align: top;\n",
       "    }\n",
       "\n",
       "    .dataframe thead th {\n",
       "        text-align: right;\n",
       "    }\n",
       "</style>\n",
       "<table border=\"1\" class=\"dataframe\">\n",
       "  <thead>\n",
       "    <tr style=\"text-align: right;\">\n",
       "      <th></th>\n",
       "      <th>p</th>\n",
       "      <th>Margem de Erro</th>\n",
       "      <th>Nivel de Confiança</th>\n",
       "      <th>Tam. População</th>\n",
       "      <th>Tam. Amostra</th>\n",
       "    </tr>\n",
       "  </thead>\n",
       "  <tbody>\n",
       "    <tr>\n",
       "      <th>0</th>\n",
       "      <td>0.7</td>\n",
       "      <td>0.04</td>\n",
       "      <td>0.9</td>\n",
       "      <td>1286</td>\n",
       "      <td>279</td>\n",
       "    </tr>\n",
       "  </tbody>\n",
       "</table>\n",
       "</div>"
      ],
      "text/plain": [
       "     p  Margem de Erro  Nivel de Confiança  Tam. População  Tam. Amostra\n",
       "0  0.7            0.04                 0.9            1286           279"
      ]
     },
     "execution_count": 46,
     "metadata": {},
     "output_type": "execute_result"
    }
   ],
   "source": [
    "# Tamanho da amostra n (N, p, margem_erro)             # populacao finita\n",
    "p= 0.7                 # estimar por 0.5 - valor máximo\n",
    "N= 1286\n",
    "margem_err= 0.04\n",
    "a_conf= 0.9\n",
    "rv= scipy.stats.norm(0,1)\n",
    "a= (1-a_conf)/2\n",
    "z = abs(rv.ppf(a))                            #inverse cdf\n",
    "n= N*p*(1-p)* z**2 / ( p*(1-p)* z**2 + (N-1)* margem_err**2)\n",
    "#n= z**2 * p*(1-p) / margem_err**2\n",
    "n= math.ceil(n)\n",
    "d={'p':[p], 'Margem de Erro':[margem_err], 'Nivel de Confiança':[a_conf],'Tam. População':[N], 'Tam. Amostra':[n]}\n",
    "pd.DataFrame(d)"
   ]
  },
  {
   "cell_type": "code",
   "execution_count": null,
   "metadata": {},
   "outputs": [],
   "source": []
  }
 ],
 "metadata": {
  "kernelspec": {
   "display_name": "Python 3",
   "language": "python",
   "name": "python3"
  },
  "language_info": {
   "codemirror_mode": {
    "name": "ipython",
    "version": 3
   },
   "file_extension": ".py",
   "mimetype": "text/x-python",
   "name": "python",
   "nbconvert_exporter": "python",
   "pygments_lexer": "ipython3",
   "version": "3.7.4"
  }
 },
 "nbformat": 4,
 "nbformat_minor": 2
}
